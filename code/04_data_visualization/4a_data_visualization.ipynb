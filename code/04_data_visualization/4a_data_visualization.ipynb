{
 "cells": [
  {
   "cell_type": "markdown",
   "id": "3b8a56fa-55fb-4875-bc7d-fffd7e9341f0",
   "metadata": {},
   "source": [
    "## Data Visualization\n",
    "\n",
    "In this final workshop, we'll learn how to present the findings from our analyses through data visualizations. There's a variety of Python libraries for visualizations. Popular ones include ``matplotlib``, ``plotly``, ``bokeh`` and ``ggplot``. In this tutorial, we'll work with ``seaborn``, a library that streamlines the process of creating appealing data visualizations so you can get quick results.\n",
    "\n",
    "**Why do data visualizations through programming?**\n",
    "This is a legitimate question. There are countless applications that are specifically designed to create data visualizations through user-friendly graphical user interfaces (GUIs). So why bother learning how to code the same thing? There are a few key reasons why we choose to do this in Python:\n",
    "\n",
    "- **Reproducablitity:** by writing your data visualizations in code, it becomes very easy for you - and anyone else - to reproduce your visualizations. All you have to do is run the script and _presto_ - you've got your result. When working with a GUI, you would need to note down step-by-step how you came to your result, which then also takes quite some time to recreate.\n",
    "- **Workflow optimization:** in many ways, programming your visualizations is way more efficient than creating them through a GUI. The main advantage is that you can incorporate the visualization process into your scripts. This means that you can visualize the results of your analyses as you are running them, instead of having to export the data and creating the visualizations in a separate program. It might take a little work to set up, but it will save you a lot of precious time later on!\n",
    "- **Flexibility:** data visualization libraries in Python are incredibly powerful, letting you change every aspect of your graphic. This is often not the case with pre-made data visualization software, which is often more limited in its customization. Creating visualizations in Python means that your results can look exactly how you want them to.\n",
    "\n",
    "#### Setting up\n",
    "Let's start by importing all the necessary libraries. For the first part of this tutorial, we're going to work with the dataset we just created together."
   ]
  },
  {
   "cell_type": "code",
   "execution_count": 17,
   "id": "12efd34a-bc89-45e8-9078-3578a0ab12dd",
   "metadata": {},
   "outputs": [],
   "source": [
    "import seaborn as sns\n",
    "import pandas as pd"
   ]
  },
  {
   "cell_type": "code",
   "execution_count": 21,
   "id": "948b133a-77fb-4703-9b23-1700bbe4ef49",
   "metadata": {
    "scrolled": true
   },
   "outputs": [
    {
     "data": {
      "text/html": [
       "<div>\n",
       "<style scoped>\n",
       "    .dataframe tbody tr th:only-of-type {\n",
       "        vertical-align: middle;\n",
       "    }\n",
       "\n",
       "    .dataframe tbody tr th {\n",
       "        vertical-align: top;\n",
       "    }\n",
       "\n",
       "    .dataframe thead th {\n",
       "        text-align: right;\n",
       "    }\n",
       "</style>\n",
       "<table border=\"1\" class=\"dataframe\">\n",
       "  <thead>\n",
       "    <tr style=\"text-align: right;\">\n",
       "      <th></th>\n",
       "      <th>name</th>\n",
       "      <th>surname</th>\n",
       "      <th>gender</th>\n",
       "      <th>nationality</th>\n",
       "      <th>continent</th>\n",
       "      <th>height_cm</th>\n",
       "      <th>shoesize</th>\n",
       "      <th>age</th>\n",
       "      <th>coffee_per_day</th>\n",
       "      <th>avg_sleep_hours</th>\n",
       "      <th>avg_phone_screen_time_hours</th>\n",
       "    </tr>\n",
       "  </thead>\n",
       "  <tbody>\n",
       "    <tr>\n",
       "      <th>0</th>\n",
       "      <td>Veronica</td>\n",
       "      <td>Yakimovich</td>\n",
       "      <td>female</td>\n",
       "      <td>Belarus</td>\n",
       "      <td>Europe</td>\n",
       "      <td>NaN</td>\n",
       "      <td>NaN</td>\n",
       "      <td>NaN</td>\n",
       "      <td>NaN</td>\n",
       "      <td>NaN</td>\n",
       "      <td>NaN</td>\n",
       "    </tr>\n",
       "    <tr>\n",
       "      <th>1</th>\n",
       "      <td>Erica</td>\n",
       "      <td>Ercole</td>\n",
       "      <td>female</td>\n",
       "      <td>Italy</td>\n",
       "      <td>Europe</td>\n",
       "      <td>NaN</td>\n",
       "      <td>NaN</td>\n",
       "      <td>NaN</td>\n",
       "      <td>NaN</td>\n",
       "      <td>NaN</td>\n",
       "      <td>NaN</td>\n",
       "    </tr>\n",
       "    <tr>\n",
       "      <th>2</th>\n",
       "      <td>Joana</td>\n",
       "      <td>Ozorio de Almeida Meroz</td>\n",
       "      <td>female</td>\n",
       "      <td>Netherlands</td>\n",
       "      <td>Europe</td>\n",
       "      <td>NaN</td>\n",
       "      <td>NaN</td>\n",
       "      <td>NaN</td>\n",
       "      <td>NaN</td>\n",
       "      <td>NaN</td>\n",
       "      <td>NaN</td>\n",
       "    </tr>\n",
       "    <tr>\n",
       "      <th>3</th>\n",
       "      <td>Lucía</td>\n",
       "      <td>García Sancha</td>\n",
       "      <td>female</td>\n",
       "      <td>Spain</td>\n",
       "      <td>Europe</td>\n",
       "      <td>NaN</td>\n",
       "      <td>NaN</td>\n",
       "      <td>NaN</td>\n",
       "      <td>NaN</td>\n",
       "      <td>NaN</td>\n",
       "      <td>NaN</td>\n",
       "    </tr>\n",
       "    <tr>\n",
       "      <th>4</th>\n",
       "      <td>Stojanche</td>\n",
       "      <td>Atanasovski</td>\n",
       "      <td>male</td>\n",
       "      <td>Macedonia</td>\n",
       "      <td>Europe</td>\n",
       "      <td>NaN</td>\n",
       "      <td>NaN</td>\n",
       "      <td>NaN</td>\n",
       "      <td>NaN</td>\n",
       "      <td>NaN</td>\n",
       "      <td>NaN</td>\n",
       "    </tr>\n",
       "    <tr>\n",
       "      <th>5</th>\n",
       "      <td>Margje Erica</td>\n",
       "      <td>van Dam</td>\n",
       "      <td>female</td>\n",
       "      <td>Netherlands</td>\n",
       "      <td>Europe</td>\n",
       "      <td>NaN</td>\n",
       "      <td>NaN</td>\n",
       "      <td>NaN</td>\n",
       "      <td>NaN</td>\n",
       "      <td>NaN</td>\n",
       "      <td>NaN</td>\n",
       "    </tr>\n",
       "    <tr>\n",
       "      <th>6</th>\n",
       "      <td>Sonali Sandeep</td>\n",
       "      <td>Kulkarni</td>\n",
       "      <td>female</td>\n",
       "      <td>India</td>\n",
       "      <td>Asia</td>\n",
       "      <td>NaN</td>\n",
       "      <td>NaN</td>\n",
       "      <td>NaN</td>\n",
       "      <td>NaN</td>\n",
       "      <td>NaN</td>\n",
       "      <td>NaN</td>\n",
       "    </tr>\n",
       "    <tr>\n",
       "      <th>7</th>\n",
       "      <td>Cadence Amy Alicea-Lee</td>\n",
       "      <td>Boxall</td>\n",
       "      <td>female</td>\n",
       "      <td>United Kingdom</td>\n",
       "      <td>Europe</td>\n",
       "      <td>NaN</td>\n",
       "      <td>NaN</td>\n",
       "      <td>NaN</td>\n",
       "      <td>NaN</td>\n",
       "      <td>NaN</td>\n",
       "      <td>NaN</td>\n",
       "    </tr>\n",
       "    <tr>\n",
       "      <th>8</th>\n",
       "      <td>Chiara</td>\n",
       "      <td>Mazzei</td>\n",
       "      <td>female</td>\n",
       "      <td>Italy</td>\n",
       "      <td>Europe</td>\n",
       "      <td>NaN</td>\n",
       "      <td>NaN</td>\n",
       "      <td>NaN</td>\n",
       "      <td>NaN</td>\n",
       "      <td>NaN</td>\n",
       "      <td>NaN</td>\n",
       "    </tr>\n",
       "    <tr>\n",
       "      <th>9</th>\n",
       "      <td>Phương Thảo</td>\n",
       "      <td>Lê</td>\n",
       "      <td>female</td>\n",
       "      <td>Vietnam</td>\n",
       "      <td>Asia</td>\n",
       "      <td>NaN</td>\n",
       "      <td>NaN</td>\n",
       "      <td>NaN</td>\n",
       "      <td>NaN</td>\n",
       "      <td>NaN</td>\n",
       "      <td>NaN</td>\n",
       "    </tr>\n",
       "    <tr>\n",
       "      <th>10</th>\n",
       "      <td>Zaseeya</td>\n",
       "      <td>Kamal</td>\n",
       "      <td>female</td>\n",
       "      <td>Bangladesh</td>\n",
       "      <td>Asia</td>\n",
       "      <td>NaN</td>\n",
       "      <td>NaN</td>\n",
       "      <td>NaN</td>\n",
       "      <td>NaN</td>\n",
       "      <td>NaN</td>\n",
       "      <td>NaN</td>\n",
       "    </tr>\n",
       "    <tr>\n",
       "      <th>11</th>\n",
       "      <td>Thomas</td>\n",
       "      <td>de Hoog</td>\n",
       "      <td>male</td>\n",
       "      <td>Netherlands</td>\n",
       "      <td>Europe</td>\n",
       "      <td>NaN</td>\n",
       "      <td>NaN</td>\n",
       "      <td>NaN</td>\n",
       "      <td>NaN</td>\n",
       "      <td>NaN</td>\n",
       "      <td>NaN</td>\n",
       "    </tr>\n",
       "    <tr>\n",
       "      <th>12</th>\n",
       "      <td>Jeroen</td>\n",
       "      <td>Bakker</td>\n",
       "      <td>male</td>\n",
       "      <td>Netherlands</td>\n",
       "      <td>Europe</td>\n",
       "      <td>189.0</td>\n",
       "      <td>44.0</td>\n",
       "      <td>29.0</td>\n",
       "      <td>3.0</td>\n",
       "      <td>7.0</td>\n",
       "      <td>1.0</td>\n",
       "    </tr>\n",
       "    <tr>\n",
       "      <th>13</th>\n",
       "      <td>Alessandra</td>\n",
       "      <td>Polimeno</td>\n",
       "      <td>female</td>\n",
       "      <td>Netherlands</td>\n",
       "      <td>Europe</td>\n",
       "      <td>175.0</td>\n",
       "      <td>40.0</td>\n",
       "      <td>27.0</td>\n",
       "      <td>2.0</td>\n",
       "      <td>8.0</td>\n",
       "      <td>3.0</td>\n",
       "    </tr>\n",
       "    <tr>\n",
       "      <th>14</th>\n",
       "      <td>Sander</td>\n",
       "      <td>Prins</td>\n",
       "      <td>male</td>\n",
       "      <td>Netherlands</td>\n",
       "      <td>Europe</td>\n",
       "      <td>203.0</td>\n",
       "      <td>46.0</td>\n",
       "      <td>32.0</td>\n",
       "      <td>5.0</td>\n",
       "      <td>7.0</td>\n",
       "      <td>5.0</td>\n",
       "    </tr>\n",
       "    <tr>\n",
       "      <th>15</th>\n",
       "      <td>Andi Muhammad Fadil</td>\n",
       "      <td>Kadir</td>\n",
       "      <td>male</td>\n",
       "      <td>Indonesia</td>\n",
       "      <td>Asia</td>\n",
       "      <td>NaN</td>\n",
       "      <td>NaN</td>\n",
       "      <td>NaN</td>\n",
       "      <td>NaN</td>\n",
       "      <td>NaN</td>\n",
       "      <td>NaN</td>\n",
       "    </tr>\n",
       "  </tbody>\n",
       "</table>\n",
       "</div>"
      ],
      "text/plain": [
       "                      name                  surname  gender     nationality  \\\n",
       "0                 Veronica               Yakimovich  female         Belarus   \n",
       "1                    Erica                   Ercole  female           Italy   \n",
       "2                    Joana  Ozorio de Almeida Meroz  female     Netherlands   \n",
       "3                    Lucía            García Sancha  female           Spain   \n",
       "4                Stojanche              Atanasovski    male       Macedonia   \n",
       "5             Margje Erica                  van Dam  female     Netherlands   \n",
       "6           Sonali Sandeep                 Kulkarni  female           India   \n",
       "7   Cadence Amy Alicea-Lee                   Boxall  female  United Kingdom   \n",
       "8                   Chiara                   Mazzei  female           Italy   \n",
       "9              Phương Thảo                       Lê  female         Vietnam   \n",
       "10                 Zaseeya                    Kamal  female      Bangladesh   \n",
       "11                  Thomas                  de Hoog    male     Netherlands   \n",
       "12                  Jeroen                   Bakker    male     Netherlands   \n",
       "13              Alessandra                 Polimeno  female     Netherlands   \n",
       "14                  Sander                    Prins    male     Netherlands   \n",
       "15     Andi Muhammad Fadil                    Kadir    male       Indonesia   \n",
       "\n",
       "   continent  height_cm  shoesize   age  coffee_per_day  avg_sleep_hours  \\\n",
       "0     Europe        NaN       NaN   NaN             NaN              NaN   \n",
       "1     Europe        NaN       NaN   NaN             NaN              NaN   \n",
       "2     Europe        NaN       NaN   NaN             NaN              NaN   \n",
       "3     Europe        NaN       NaN   NaN             NaN              NaN   \n",
       "4     Europe        NaN       NaN   NaN             NaN              NaN   \n",
       "5     Europe        NaN       NaN   NaN             NaN              NaN   \n",
       "6       Asia        NaN       NaN   NaN             NaN              NaN   \n",
       "7     Europe        NaN       NaN   NaN             NaN              NaN   \n",
       "8     Europe        NaN       NaN   NaN             NaN              NaN   \n",
       "9       Asia        NaN       NaN   NaN             NaN              NaN   \n",
       "10      Asia        NaN       NaN   NaN             NaN              NaN   \n",
       "11    Europe        NaN       NaN   NaN             NaN              NaN   \n",
       "12    Europe      189.0      44.0  29.0             3.0              7.0   \n",
       "13    Europe      175.0      40.0  27.0             2.0              8.0   \n",
       "14    Europe      203.0      46.0  32.0             5.0              7.0   \n",
       "15      Asia        NaN       NaN   NaN             NaN              NaN   \n",
       "\n",
       "    avg_phone_screen_time_hours  \n",
       "0                           NaN  \n",
       "1                           NaN  \n",
       "2                           NaN  \n",
       "3                           NaN  \n",
       "4                           NaN  \n",
       "5                           NaN  \n",
       "6                           NaN  \n",
       "7                           NaN  \n",
       "8                           NaN  \n",
       "9                           NaN  \n",
       "10                          NaN  \n",
       "11                          NaN  \n",
       "12                          1.0  \n",
       "13                          3.0  \n",
       "14                          5.0  \n",
       "15                          NaN  "
      ]
     },
     "execution_count": 21,
     "metadata": {},
     "output_type": "execute_result"
    }
   ],
   "source": [
    "# Load in the Participants Excel file\n",
    "participants = pd.read_excel(r\"C:\\Users\\bge_j\\Documents\\UDS\\Summer school 2024\\Materials\\dataviz\\Participants_dataset.xlsx\")\n",
    "\n",
    "participants"
   ]
  },
  {
   "cell_type": "markdown",
   "id": "c307b77d-7381-49ca-8eb5-896f5bf29de8",
   "metadata": {},
   "source": [
    "# To do:\n",
    "- Finalize code.\n",
    "- Add export code."
   ]
  },
  {
   "cell_type": "markdown",
   "id": "e53d7d4a-67a1-42f7-bbd4-c94f46c4c20d",
   "metadata": {},
   "source": [
    "First, let's see if there is any correlation between height and shoe size.\n",
    "\n",
    "``sns.lineplot(data=participants, x=\"height_cm\", y=\"shoesize\")``\n",
    "\n",
    "``sns.scatterplot(data=participants, x=\"height_cm\", y=\"shoesize\")``\n",
    "\n",
    "``sns.histplot(data=participants, x=\"height_cm\", y=\"shoesize\")``\n",
    "\n",
    "``sns.kdeplot(data=participants, x=\"height_cm\", y=\"shoesize\")``\n",
    "\n",
    "\n",
    "> **Exercise:** Try the scripts above. Which one is most useful to study this correlation? Why?"
   ]
  },
  {
   "cell_type": "code",
   "execution_count": 25,
   "id": "ac9a0d65-e765-45c3-9bb6-23337a5a4c75",
   "metadata": {},
   "outputs": [],
   "source": [
    "# Your code here:\n"
   ]
  },
  {
   "cell_type": "markdown",
   "id": "723f3c47-c92f-476a-b7ec-0ecc314aff3c",
   "metadata": {},
   "source": [
    "Thus far, we visualized two variables on the ``x`` and ``y`` axis. We can add an extra dimension to our plots by categorizing the data points. Categories are often expressed through color, which we can call in ``seaborn`` using the ``hue`` argument. \n",
    "\n",
    "> **Exercise:** Copy the code you chose above and assign the ``hue`` element to the column \"continent\"."
   ]
  },
  {
   "cell_type": "code",
   "execution_count": 28,
   "id": "58870dd4-40d4-4952-872f-8f9ca4888acc",
   "metadata": {},
   "outputs": [],
   "source": [
    "# Your code here:\n"
   ]
  },
  {
   "cell_type": "markdown",
   "id": "67b55c91-252e-49bd-b690-59649d0cb4da",
   "metadata": {},
   "source": [
    "To customize the color palette, we can use ``seaborn``'s ``palette`` argument.\n",
    "\n",
    "> **Exercise:** Add ``palette = \"pastel\"`` to the code above and see how the output changes."
   ]
  },
  {
   "cell_type": "markdown",
   "id": "99228daa-89e1-4e83-bf21-92811729f2ef",
   "metadata": {},
   "source": [
    "Some plot types are specifically built for categorical values. Take ``swarmplot()``, for example. This is a variant of ``scatterplot()`` that separates categories on an axis:"
   ]
  },
  {
   "cell_type": "code",
   "execution_count": 32,
   "id": "645fabb8-5be9-4dd9-a0dc-31cc3b148b7c",
   "metadata": {},
   "outputs": [
    {
     "data": {
      "text/plain": [
       "<Axes: xlabel='shoesize', ylabel='nationality'>"
      ]
     },
     "execution_count": 32,
     "metadata": {},
     "output_type": "execute_result"
    },
    {
     "data": {
      "image/png": "[encoded data removed]",
      "text/plain": [
       "<Figure size 640x480 with 1 Axes>"
      ]
     },
     "metadata": {},
     "output_type": "display_data"
    }
   ],
   "source": [
    "sns.swarmplot(data=participants, x=\"shoesize\", y=\"nationality\")"
   ]
  },
  {
   "cell_type": "markdown",
   "id": "29101ce2-a4f3-4fb4-b60f-ddc44eeb0e53",
   "metadata": {},
   "source": [
    "As you can see, a big part of data visualization is finding the right type of visualization for the information that you want to communicate. Some plot types are a better fit for certain types of data. The main questions you want to ask yourself are the following:\n",
    "\n",
    "- How many values do I want to visualize? One, two, or more?\n",
    "- What kinds of values are these? Numeric, categorical?"
   ]
  },
  {
   "cell_type": "markdown",
   "id": "99452943-89fb-448d-8884-5929c1d54454",
   "metadata": {},
   "source": [
    "Common types of visualizations include:\n",
    "- Scatterplot ``scatterplot()``: A scatter plot is used to visualize the relationship between two variables (bivariate). \n",
    "- Lineplot ``lineplot()``: Used to visualize the trend of a variable over time (bivariate).\n",
    "- Histogram ``histplot()``: Used to visualize the distribution of a variable (univariate, but can also be used as bivariate).\n",
    "- Violinplot ``violinplot``: Used to compare the distribution of a value for multiple categories (bivariate).\n",
    "- Pairplot ``pairplot()``: Used to compare all numeric variables in a dataset through a matrix of scatterplots. Used to study the potential correlation between variables. Try ``sns.pairplot(participants, hue = \"gender\")``\n",
    "\n",
    "Most plot functions in ``seaborn`` follow the same type of formatting, which makes it very user-friendly. Once you know how to make one plot, it is easy to create another type of plot as well."
   ]
  },
  {
   "cell_type": "markdown",
   "id": "ecbca3f0-0198-4047-9e07-dca22f53194a",
   "metadata": {},
   "source": [
    "#### Customizing your plot\n",
    "Once you are happy with the way your plot looks, you can customize it to make it a little more presentable. In the next code, we're going to add more descriptive labels, as well as a title. For this, we're using the ``set`` function to customize our plot."
   ]
  },
  {
   "cell_type": "code",
   "execution_count": 92,
   "id": "358478d9-90bd-432b-8886-1793cd51d8ad",
   "metadata": {},
   "outputs": [
    {
     "data": {
      "text/plain": [
       "[Text(0.5, 1.0, 'Average time spent on phone, per day'),\n",
       " Text(0.5, 0, 'Gender'),\n",
       " Text(0, 0.5, 'Time in hours')]"
      ]
     },
     "execution_count": 92,
     "metadata": {},
     "output_type": "execute_result"
    },
    {
     "data": {
      "image/png": "[encoded data removed]",
      "text/plain": [
       "<Figure size 640x480 with 1 Axes>"
      ]
     },
     "metadata": {},
     "output_type": "display_data"
    }
   ],
   "source": [
    "plot = sns.boxplot(data=participants, y=\"avg_phone_screen_time_hours\", x=\"gender\")\n",
    "plot.set(title=\"Average time spent on phone, per day\", xlabel='Gender', ylabel='Time in hours')"
   ]
  },
  {
   "cell_type": "markdown",
   "id": "5bc5b697-311d-41e5-8c93-fd02877e3d10",
   "metadata": {},
   "source": [
    "Let's say we want to change the range of our y axis, so that it starts at 0 and goes up to the highest value in hour dataset. We can use the ``ylim`` argument, which refers to the limits of the y axis. \n",
    "\n",
    "Using ``ylim=(0, participants['avg_phone_screen_time_hours'].max()+2)``, we set the y range to start at 0, and end at the highest value in our column ``avg_phone_screen_time_hours``. To give the plot a bit more room, we're adding 2 to that value, so that the upper bounds of the plot have some breathing room.\n",
    "\n",
    "Again, we're doing this within the ``set`` function."
   ]
  },
  {
   "cell_type": "code",
   "execution_count": 99,
   "id": "c3eee8dc-f06b-4660-904f-71595f5ca4fa",
   "metadata": {},
   "outputs": [
    {
     "data": {
      "text/plain": [
       "[Text(0.5, 1.0, 'Average time spent on phone, per day'),\n",
       " Text(0.5, 0, 'Gender'),\n",
       " Text(0, 0.5, 'Time in hours'),\n",
       " (0.0, 7.0)]"
      ]
     },
     "execution_count": 99,
     "metadata": {},
     "output_type": "execute_result"
    },
    {
     "data": {
      "image/png": "[encoded data removed]",
      "text/plain": [
       "<Figure size 640x480 with 1 Axes>"
      ]
     },
     "metadata": {},
     "output_type": "display_data"
    }
   ],
   "source": [
    "plot = sns.boxplot(data=participants, y=\"avg_phone_screen_time_hours\", x=\"gender\")\n",
    "plot.set(title=\"Average time spent on phone, per day\", xlabel='Gender', ylabel='Time in hours', ylim=(0, participants['avg_phone_screen_time_hours'].max()+2))"
   ]
  },
  {
   "cell_type": "markdown",
   "id": "a9c2b127-0912-4daf-a779-576c0a00fd25",
   "metadata": {},
   "source": [
    "> **Exercise:** Time to combine the results from our last tutorial! Visualize the results from your Named Entitity Recognition analysis from the text analysis tutorial in a histogram, displaying the distribution of entity types."
   ]
  },
  {
   "cell_type": "code",
   "execution_count": null,
   "id": "ccf246ed-6b0d-4a42-a571-8a7b98f4e1b7",
   "metadata": {},
   "outputs": [],
   "source": [
    "# Your code here:\n"
   ]
  },
  {
   "cell_type": "markdown",
   "id": "e0224a51-72ed-4c93-ba85-bddcb9d0f717",
   "metadata": {},
   "source": [
    "#### More!\n",
    "We just scratched the surface of what ``seaborn`` can do. To get an idea of all the different types of plots the package can generate, check out this overview [right here](https://seaborn.pydata.org/examples/index.html). \n",
    "\n",
    "> **Exercise:** Now that you know the basic syntax of making plots in ``seaborn``, it's time to apply these new skills. Load the dataset(s) you collected yesterday and try to generate some plots. Save them to your computer and be prepared to present a few of them at the end of the day."
   ]
  }
 ],
 "metadata": {
  "kernelspec": {
   "display_name": "Python 3 (ipykernel)",
   "language": "python",
   "name": "python3"
  },
  "language_info": {
   "codemirror_mode": {
    "name": "ipython",
    "version": 3
   },
   "file_extension": ".py",
   "mimetype": "text/x-python",
   "name": "python",
   "nbconvert_exporter": "python",
   "pygments_lexer": "ipython3",
   "version": "3.12.3"
  }
 },
 "nbformat": 4,
 "nbformat_minor": 5
}
