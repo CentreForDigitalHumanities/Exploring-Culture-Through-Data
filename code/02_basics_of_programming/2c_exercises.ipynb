{
 "cells": [
  {
   "cell_type": "markdown",
   "metadata": {},
   "source": [
    "### Exercises\n",
    "This notebook is intended to test your Python knowledge so far. It contains a mix of operations and functions that you have encountered before, and some new ones. \n",
    "\n",
    "These exercises are designed to be challenging, so don't worry if you find them difficult. If you get stuck, you can always refer to the search strategies you've learned in the course to help you find the information you need. \n",
    "\n",
    "We will work with a dataset containing information about the income of countries over a span of 28 years. The dataset is stored in a excel file named `income_by_country.xlsx`. The excercises below guide you through the process of loading and analyzing this dataset. "
   ]
  },
  {
   "cell_type": "markdown",
   "metadata": {},
   "source": [
    "### Loading and inspecting the data\n",
    "Let's start with loading the dataset into a DataFrame, and inspecting it to understand its structure. Follow these steps to complete the task:\n",
    "- Import the `pandas` library\n",
    "- Load the dataset into a DataFrame \n",
    "- Display the first 5 rows of the DataFrame\n",
    "- Use the `info()` method to display a summary of the DataFrame"
   ]
  },
  {
   "cell_type": "code",
   "execution_count": null,
   "metadata": {},
   "outputs": [],
   "source": [
    "### Your code here\n",
    "\n"
   ]
  },
  {
   "cell_type": "markdown",
   "metadata": {},
   "source": [
    "### "
   ]
  }
 ],
 "metadata": {
  "kernelspec": {
   "display_name": "base",
   "language": "python",
   "name": "python3"
  },
  "language_info": {
   "codemirror_mode": {
    "name": "ipython",
    "version": 3
   },
   "file_extension": ".py",
   "mimetype": "text/x-python",
   "name": "python",
   "nbconvert_exporter": "python",
   "pygments_lexer": "ipython3",
   "version": "3.9.13"
  }
 },
 "nbformat": 4,
 "nbformat_minor": 2
}
