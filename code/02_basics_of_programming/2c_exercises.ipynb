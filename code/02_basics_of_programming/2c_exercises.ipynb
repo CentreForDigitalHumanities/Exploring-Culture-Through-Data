{
 "cells": [
  {
   "cell_type": "markdown",
   "metadata": {},
   "source": [
    "# Exercises\n",
    "This notebook is intended to test your Python knowledge so far. It contains a mix of operations and functions that you have encountered before, and some new ones. \n",
    "\n",
    "These exercises are designed to be challenging, so don't worry if you find them difficult. If you get stuck, you can always refer to the search strategies you've learned in the course to help you find the information you need. \n",
    "\n",
    "Hint 1 - Try to break down the question into smaller parts. \n",
    "\n",
    "Hint 2 - Here are some methods that you might find useful:\n",
    "- `max()`\n",
    "- `min()`\n",
    "- `sum()`"
   ]
  },
  {
   "cell_type": "markdown",
   "metadata": {},
   "source": [
    "## A first look at the data"
   ]
  },
  {
   "cell_type": "markdown",
   "metadata": {},
   "source": [
    "We will work with a dataset containing information about the income of countries over a span of 28 years. The dataset is stored in an Excel file named `GDP_by_country.xlsx`. The excercises below guide you through the process of loading and analyzing this dataset. "
   ]
  },
  {
   "cell_type": "markdown",
   "metadata": {},
   "source": [
    "> Exercise: \n",
    "It's good to get familiar with the data before you start working with it. Open the `GDP_by_country.xlsx` file in Excel and take a look at the data. Try to get a sense of what the data looks like, for example by asking yourself questions like 'What are the names of the columns?', 'How many rows are there?' or 'What are the data types of the columns?'. "
   ]
  },
  {
   "cell_type": "markdown",
   "metadata": {},
   "source": [
    "#### Inspecting the data in Python\n",
    "Let's start with inspecting the data to understand its structure. Follow the steps specified below. The first steps are already completed for you. "
   ]
  },
  {
   "cell_type": "code",
   "execution_count": 8,
   "metadata": {},
   "outputs": [],
   "source": [
    "# Import pandas\n",
    "import pandas as pd"
   ]
  },
  {
   "cell_type": "code",
   "execution_count": 11,
   "metadata": {},
   "outputs": [],
   "source": [
    "# Load the data \n",
    "df = pd.read_excel('../../data/GDP_by_country.xlsx')\n",
    "\n",
    "# Transform all columns except 'Country' to numeric values\n",
    "df.iloc[:, 1:] = df.iloc[:, 1:].apply(pd.to_numeric, errors='coerce') # coerce will turn missing values into NaN "
   ]
  },
  {
   "cell_type": "code",
   "execution_count": 16,
   "metadata": {},
   "outputs": [],
   "source": [
    "# Display the first 10 rows of the DataFrame \n",
    "\n",
    "\n"
   ]
  },
  {
   "cell_type": "code",
   "execution_count": 15,
   "metadata": {},
   "outputs": [],
   "source": [
    "# Use the info() method to get a summary of the data \n",
    "\n",
    "\n"
   ]
  },
  {
   "cell_type": "code",
   "execution_count": null,
   "metadata": {},
   "outputs": [],
   "source": [
    "# Count the number of missing values in the DataFrame\n",
    "\n"
   ]
  },
  {
   "cell_type": "code",
   "execution_count": null,
   "metadata": {},
   "outputs": [],
   "source": [
    "# Remove the rows with NaN values and display the first 5 rows of the cleaned DataFrame\n",
    "\n"
   ]
  },
  {
   "cell_type": "markdown",
   "metadata": {},
   "source": [
    "### Analysis "
   ]
  },
  {
   "cell_type": "code",
   "execution_count": 22,
   "metadata": {},
   "outputs": [],
   "source": [
    "# Make a subset that only contains South American Countries\n",
    "\n"
   ]
  },
  {
   "cell_type": "code",
   "execution_count": 32,
   "metadata": {},
   "outputs": [],
   "source": [
    "# Print the country with the highest income in 2018\n",
    "\n"
   ]
  },
  {
   "cell_type": "code",
   "execution_count": null,
   "metadata": {},
   "outputs": [],
   "source": [
    "# Print the average GDP of Thailand in the 1990s \n",
    "\n"
   ]
  },
  {
   "cell_type": "code",
   "execution_count": null,
   "metadata": {},
   "outputs": [],
   "source": [
    "# What is the highest income in the data set? Which country and which year? \n",
    "\n"
   ]
  },
  {
   "cell_type": "code",
   "execution_count": null,
   "metadata": {},
   "outputs": [],
   "source": [
    "# What is the lowest income in the data set? Which country and which year? \n",
    "\n"
   ]
  }
 ],
 "metadata": {
  "kernelspec": {
   "display_name": "Python 3 (ipykernel)",
   "language": "python",
   "name": "python3"
  },
  "language_info": {
   "codemirror_mode": {
    "name": "ipython",
    "version": 3
   },
   "file_extension": ".py",
   "mimetype": "text/x-python",
   "name": "python",
   "nbconvert_exporter": "python",
   "pygments_lexer": "ipython3",
   "version": "3.9.13"
  }
 },
 "nbformat": 4,
 "nbformat_minor": 4
}
