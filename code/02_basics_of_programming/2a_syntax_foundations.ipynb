{
 "cells": [
  {
   "cell_type": "markdown",
   "metadata": {},
   "source": [
    "# Foundations of syntax \n",
    "\n",
    "\n",
    "By now, you should be familiar with the basics of Python. This notebook covers some essential topics related to the syntax and terminology around Python, and finding help when you need it.  \n",
    "\n",
    "The information in this notebook will be useful for later exercises. Try to understand the concepts and syntax, but don't worry if you don't remember everything. You can always refer back to this notebook later. \n",
    "\n",
    "We will cover the following topics:\n",
    "- String formatting \n",
    "- File paths\n",
    "- Installing and importing packages\n",
    "- Looking up functions and methods\n",
    "- Dealing with errors\n",
    "- Arguments "
   ]
  },
  {
   "cell_type": "markdown",
   "metadata": {},
   "source": [
    "## String formatting"
   ]
  },
  {
   "cell_type": "markdown",
   "metadata": {},
   "source": [
    "In the preparation materials, you became familiar with the `print()` function. You can use it to display strings, numbers, and other objects. When you're working with strings, there's some useful formatting you can do to combine strings, make your output more readable, or to include variables in your strings. \n"
   ]
  },
  {
   "cell_type": "markdown",
   "metadata": {},
   "source": [
    "### String concatenation "
   ]
  },
  {
   "cell_type": "markdown",
   "metadata": {},
   "source": [
    "In Python, you can combine or concatenate strings using the `+` operator. "
   ]
  },
  {
   "cell_type": "code",
   "execution_count": null,
   "metadata": {},
   "outputs": [],
   "source": [
    "first_name = \"Alessandra\"\n",
    "last_name = \"Polimeno\""
   ]
  },
  {
   "cell_type": "code",
   "execution_count": null,
   "metadata": {},
   "outputs": [],
   "source": [
    "# Use the + operator to concatenate the first and last name\n",
    "full_name = ...\n"
   ]
  },
  {
   "cell_type": "markdown",
   "metadata": {},
   "source": [
    "### F-strings\n"
   ]
  },
  {
   "cell_type": "markdown",
   "metadata": {},
   "source": [
    "This is not the most efficient way to concatenate strings, but it's simple and works well for small strings. \n",
    "\n",
    "A more robust way to concatenate strings is to use `f-strings`. F-strings allow you to insert variables directly into strings. \n",
    "\n",
    "The syntax for f-strings is to start the string with `f` and then include the variables in curly braces `{}`."
   ]
  },
  {
   "cell_type": "code",
   "execution_count": null,
   "metadata": {},
   "outputs": [],
   "source": [
    "full_name = f'{first_name} {last_name}'\n",
    "\n",
    "print(full_name)"
   ]
  },
  {
   "cell_type": "markdown",
   "metadata": {},
   "source": [
    "You can also use f-strings in a running text: "
   ]
  },
  {
   "cell_type": "code",
   "execution_count": null,
   "metadata": {},
   "outputs": [],
   "source": [
    "name = \"Olivia\"\n",
    "city = \"Rome\"\n",
    "\n",
    "print(f'Hello, my name is {name} and i live in {city}')"
   ]
  },
  {
   "cell_type": "markdown",
   "metadata": {},
   "source": [
    "### Escape characters and raw strings\n",
    "In Python the backslash `\\` is a special character called the `escape character`. It is often used to indicate that the following character should not be interpreted in its usual way. For example, the character `\\t` is used to indicate a tab (see the example below). "
   ]
  },
  {
   "cell_type": "code",
   "execution_count": null,
   "metadata": {},
   "outputs": [],
   "source": [
    "print('Hi', '\\t', 'Bye')"
   ]
  },
  {
   "cell_type": "markdown",
   "metadata": {},
   "source": [
    "If you want to use a backslash in a string without it being interpreted as an escape character, you can use a `raw string`. This is a string that has an `r` at the beginning. Raw strings show the underlying characters of a string, without interpreting any special characters. "
   ]
  },
  {
   "cell_type": "code",
   "execution_count": null,
   "metadata": {},
   "outputs": [],
   "source": [
    "print('Hi', r'\\t', 'Bye')"
   ]
  },
  {
   "cell_type": "markdown",
   "metadata": {},
   "source": [
    "## File paths\n",
    "When working with files in Python, you often need to specify the file `path`. This is the location of the file on your computer. \n",
    "\n",
    "There are two types of file paths:\n",
    "- Absolute paths: These specify the full path to the file, starting from the root directory.\n",
    "- Relative paths: These specify the path to the file relative to the current working directory.\n",
    "\n"
   ]
  },
  {
   "cell_type": "markdown",
   "metadata": {},
   "source": [
    "### Absolute paths"
   ]
  },
  {
   "cell_type": "markdown",
   "metadata": {},
   "source": [
    "In Windows, you can find the absolute path of a file in your file explorer by copying it from the address bar. \n",
    "\n",
    "Backslashes (`\\`) are used to separate directories in Windows. As we've seen, backslashes are also used as escape characters in Python. This can cause problems when specifying file paths. For this reason, it's a good idea to use raw strings when specifying file paths if you're on Windows."
   ]
  },
  {
   "cell_type": "code",
   "execution_count": null,
   "metadata": {},
   "outputs": [],
   "source": [
    "# This is what an absolute path could look like on Windows: \n",
    "path = r'C:\\Users\\Jeroen\\Documents\\Summer-School-2024'"
   ]
  },
  {
   "cell_type": "markdown",
   "metadata": {},
   "source": [
    "In Unix-based systems (like Linux and macOS), forward slashes (`/`) are used to separate directories. Forward slashes are not escape characters in Python, so you don't need to use raw strings when specifying file paths on these systems. \n",
    "\n",
    "You can find the absolute path of a file in a Unix-based system by navigating to the file in the Finder, clicking on the file, and pressing `option`, and then clicking on `Copy <filename> as Pathname`."
   ]
  },
  {
   "cell_type": "code",
   "execution_count": null,
   "metadata": {},
   "outputs": [],
   "source": [
    "# This is what an absolute path could look like on Unix: \n",
    "path = '/home/Alessandra/Documents/Summer-School-2024'"
   ]
  },
  {
   "cell_type": "markdown",
   "metadata": {},
   "source": [
    "### Relative paths"
   ]
  },
  {
   "cell_type": "markdown",
   "metadata": {},
   "source": [
    "In the notebooks, we will work with `relative paths`, which are paths that are relative to the current working directory. The current working directory is the directory from which the Python script is being run. If you're not sure what the current working directory is, you can run the `pwd` command. It stands for `print working directory`. "
   ]
  },
  {
   "cell_type": "code",
   "execution_count": null,
   "metadata": {},
   "outputs": [],
   "source": [
    "pwd"
   ]
  },
  {
   "cell_type": "markdown",
   "metadata": {},
   "source": [
    "Just like in absolute paths, directories are separated by slashes (`/` for Unix-based systems, and `\\` for Windows). You can move up one directory by using `..` and move into a directory by using the directory name. \n",
    "\n",
    "Take a look at the example below. Try to figure out where the relative path links to. "
   ]
  },
  {
   "cell_type": "code",
   "execution_count": null,
   "metadata": {},
   "outputs": [],
   "source": [
    "path = '../../data/songs.csv'"
   ]
  },
  {
   "cell_type": "markdown",
   "metadata": {},
   "source": [
    "When working with a repository like this, it's a good idea to use relative paths. This way, you can easily share your code with others, and it will work on their machines as well. "
   ]
  },
  {
   "cell_type": "markdown",
   "metadata": {},
   "source": [
    "## Installing and importing packages\n",
    "Python offers a wide range of so-called `packages`, which are collections of functions and methods that can be used to perform specific tasks. You can think of packages as neatly wrapped pieces of code that are easily shared and reused. Over time, Python users have found that certain tasks are performed so frequently that it makes sense to create a package that contains the necessary functions. \n",
    "\n",
    "Before you can use an external package, you need to install it. You can do this using the `pip install` command, followed by the package name. \n",
    "\n",
    "`pip` is a package manager for Python. It is used to install and manage packages that are not part of the Python standard library. "
   ]
  },
  {
   "cell_type": "code",
   "execution_count": null,
   "metadata": {},
   "outputs": [],
   "source": [
    "pip install pandas"
   ]
  },
  {
   "cell_type": "markdown",
   "metadata": {},
   "source": [
    "Once the package is installed, you can import it into your code. You simply do this by using the `import` keyword followed by the package name. "
   ]
  },
  {
   "cell_type": "code",
   "execution_count": null,
   "metadata": {},
   "outputs": [],
   "source": [
    "import numpy"
   ]
  },
  {
   "cell_type": "markdown",
   "metadata": {},
   "source": [
    "You can also import a package under a different name of your choosing using the `as` keyword. This is often done to make the package name shorter and easier to type. "
   ]
  },
  {
   "cell_type": "code",
   "execution_count": null,
   "metadata": {},
   "outputs": [],
   "source": [
    "import numpy as np"
   ]
  },
  {
   "cell_type": "markdown",
   "metadata": {},
   "source": [
    "### Using packages"
   ]
  },
  {
   "cell_type": "markdown",
   "metadata": {},
   "source": [
    "Packages contain functions that you can use in your code. To use a function from a package, you need to specify the package name first, follwed by a dot `.` and then the function name. Take a look at the example below and try to understand what's happening. "
   ]
  },
  {
   "cell_type": "code",
   "execution_count": null,
   "metadata": {},
   "outputs": [],
   "source": [
    "import numpy as np\n",
    "\n",
    "numbers = [1,2,3,4,5]\n",
    "my_mean = np.mean(numbers)\n",
    "\n",
    "print(my_mean)"
   ]
  },
  {
   "cell_type": "markdown",
   "metadata": {},
   "source": [
    "You can also import single functions from a package, by using the `from` keyword followed by the package name and the `import` keyword followed by the function name. \n",
    "\n",
    "This is useful if you only need a specific function from a package and don't want to import the entire package. "
   ]
  },
  {
   "cell_type": "code",
   "execution_count": null,
   "metadata": {},
   "outputs": [],
   "source": [
    "from numpy import mean"
   ]
  },
  {
   "cell_type": "markdown",
   "metadata": {},
   "source": [
    "This has an effect on the way you call the function. You no longer need to specify the package name, but can call the function directly: "
   ]
  },
  {
   "cell_type": "code",
   "execution_count": null,
   "metadata": {},
   "outputs": [],
   "source": [
    "from numpy import mean\n",
    "\n",
    "numbers = [1,2,3,4,5]\n",
    "my_mean = mean(numbers)\n",
    "\n",
    "print(my_mean)"
   ]
  },
  {
   "cell_type": "markdown",
   "metadata": {},
   "source": [
    "You only need to import a package once in your code. You can import a package at the beginning of your notebook or script, and then use the functions from the package throughout your code. "
   ]
  },
  {
   "cell_type": "markdown",
   "metadata": {},
   "source": [
    "## Looking up functions and methods\n",
    "When working with Python, you will often need to look up the documentation for a function or method. Many packages have rich documentation on the internet that you can access by searching for the package and/or function name. \n",
    "\n",
    "However, you can also access the documentation directly from your code. "
   ]
  },
  {
   "cell_type": "markdown",
   "metadata": {},
   "source": [
    "Use the `dir()` function if you want to see all functions and methods available in a package: "
   ]
  },
  {
   "cell_type": "code",
   "execution_count": null,
   "metadata": {
    "tags": []
   },
   "outputs": [],
   "source": [
    "import numpy\n",
    "\n",
    "dir(numpy)"
   ]
  },
  {
   "cell_type": "markdown",
   "metadata": {},
   "source": [
    "If you want to know more about a specific package, you can use the `?` operator. This will display a window with information about the package. It will also tell you where the package is installed on your computer. It also works on funtions and methods. "
   ]
  },
  {
   "cell_type": "code",
   "execution_count": null,
   "metadata": {},
   "outputs": [],
   "source": [
    "numpy?"
   ]
  },
  {
   "cell_type": "markdown",
   "metadata": {
    "jupyter": {
     "source_hidden": true
    },
    "tags": []
   },
   "source": [
    "Another way to look up information is the `help()` function. You pass the package, function or method name as an argument to the `help()` function. As you can see, this has richer information than the `?` operator. "
   ]
  },
  {
   "cell_type": "code",
   "execution_count": null,
   "metadata": {
    "tags": []
   },
   "outputs": [],
   "source": [
    "help(numpy)"
   ]
  },
  {
   "cell_type": "markdown",
   "metadata": {},
   "source": [
    "## Dealing with errors"
   ]
  },
  {
   "cell_type": "markdown",
   "metadata": {
    "tags": []
   },
   "source": [
    "When you're writing code, you will inevitably come across errors. This is a natural part of programming, so don't be discouraged when you encounter them. \n",
    "\n",
    "An error is always accompanied by an error message. This message tells you what went wrong and where the error occurred. \n",
    "\n",
    "Here's a brief roadmap for dealing with errors:\n",
    "1. Read the error message. \\\n",
    "This will tell you the type of error, and where in your code it occured. The last line of the error output contains the most useful information about what went wrong. \n",
    "\n",
    "2. Search for the error message on the internet. \\\n",
    "You can copy the error message and paste it into a search engine. Your error was propably encountered by someone else before, and there might be a solution available. You will definitely encounter the website [stackoverflow.com](https://stackoverflow.com/), which is a great resource for finding answers to programming questions. \n",
    "\n",
    "3. Ask an AI assistant. \\\n",
    "AI assistants like ChatGPT can provide quick answers to programming questions. You can share parts of your code, the error message, and some context, and the AI assistant may be able to provide a solution. Be wary of sharing sensitive information like file paths or API keys. \n",
    "\n",
    "\n"
   ]
  },
  {
   "cell_type": "markdown",
   "metadata": {},
   "source": [
    "\n",
    "\n",
    "\n",
    "<div class=\"alert alert-block alert-info\">\n",
    "<b>Exercise</b>  </p>\n",
    "Try to solve the error below. Feel free to use the internet. \n",
    "\n",
    "</div>"
   ]
  },
  {
   "cell_type": "code",
   "execution_count": null,
   "metadata": {},
   "outputs": [],
   "source": [
    "numbers = [1,2,3,4,5]\n",
    "print(numbers[5])"
   ]
  },
  {
   "cell_type": "markdown",
   "metadata": {},
   "source": [
    "## Arguments"
   ]
  },
  {
   "cell_type": "markdown",
   "metadata": {},
   "source": [
    "You have unknowingly been working with `arguments` already. Arguments are the values that you pass to a function. They provide the function with the information it needs to perform its task. \n",
    "\n",
    "For example, in the `print()` function, the argument is the string that you want to print. In the `mean()` function, the argument is the list of numbers that you want to calculate the mean of. \n",
    "\n",
    "Arguments can be of different types. They can be strings, numbers, lists, dictionaries, or even other functions. Some arguments are required, while others are optional. \n",
    "\n",
    "Take a look at the code below. You see that the `mean()` function does not work without an argument. \n"
   ]
  },
  {
   "cell_type": "markdown",
   "metadata": {},
   "source": [
    "\n",
    "\n",
    "<div class=\"alert alert-block alert-info\"> \n",
    "\n",
    "<b>Exercise</b>  </p>\n",
    "Try to fix the code below by passing a list of numbers to the `mean()` function. \n",
    "\n",
    "</div>"
   ]
  },
  {
   "cell_type": "code",
   "execution_count": null,
   "metadata": {},
   "outputs": [],
   "source": [
    "mean()"
   ]
  },
  {
   "cell_type": "markdown",
   "metadata": {},
   "source": [
    "## Variable overview \n",
    "This final trick can help you keep track of the variables you have created.  The command `whos` will display a list of all the variables in your current environment. Just keep in mind that this command exists, and you can use it when you need it. "
   ]
  },
  {
   "cell_type": "code",
   "execution_count": null,
   "metadata": {},
   "outputs": [],
   "source": [
    "whos"
   ]
  }
 ],
 "metadata": {
  "kernelspec": {
   "display_name": "Python 3 (ipykernel)",
   "language": "python",
   "name": "python3"
  },
  "language_info": {
   "codemirror_mode": {
    "name": "ipython",
    "version": 3
   },
   "file_extension": ".py",
   "mimetype": "text/x-python",
   "name": "python",
   "nbconvert_exporter": "python",
   "pygments_lexer": "ipython3",
   "version": "3.12.4"
  }
 },
 "nbformat": 4,
 "nbformat_minor": 4
}
