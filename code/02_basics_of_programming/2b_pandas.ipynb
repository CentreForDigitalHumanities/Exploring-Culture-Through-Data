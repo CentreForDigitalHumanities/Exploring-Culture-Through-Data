{
 "cells": [
  {
   "cell_type": "markdown",
   "metadata": {},
   "source": [
    "# Introduction to pandas\n",
    "In this notebook, we will learn the basics of the `pandas` library. This is a powerful package that is often used to work with data in Python. It alllows you to look at your data, perform manipulations, and create visualizations. \n",
    "\n",
    "There is a lot to learn about `pandas`, but we will cover the basics in this notebook. Check out the [official documentation](https://pandas.pydata.org/pandas-docs/stable/reference/io.html) for more information about the available functions and methods.\n",
    "\n",
    "This lesson covers the following topics:\n",
    "- Reading data as a DataFrame\n",
    "- Basic operations on a DataFrame: \n",
    "    - Selecting \n",
    "    - Counting \n",
    "    - Calculating the average\n",
    "    - Adding new data\n",
    "    - Dealing with missing data\n",
    "    - Sorting \n",
    "- Writing data to a CSV file \n"
   ]
  },
  {
   "cell_type": "markdown",
   "metadata": {},
   "source": [
    "First, you have to import the `pandas` package. You can do this by running the code below. Note that it's common practice to import `pandas` as `pd` to save time when typing. "
   ]
  },
  {
   "cell_type": "code",
   "execution_count": 2,
   "metadata": {},
   "outputs": [],
   "source": [
    "import pandas as pd"
   ]
  },
  {
   "cell_type": "markdown",
   "metadata": {},
   "source": [
    "`pandas` works with a structure called a `DataFrame`. This is table with rows and columns. You can think of it as a spreadsheet. It consists of `columns` (vertical series of data), and `rows` (horizontal series)."
   ]
  },
  {
   "cell_type": "markdown",
   "metadata": {},
   "source": [
    "#### Loading data"
   ]
  },
  {
   "cell_type": "markdown",
   "metadata": {},
   "source": [
    "Let's start by loading a CSV file and saving it to a variable. You can do this by using the `read_csv` function, which is a `pandas` function. This function takes the `path` to the file as a so-called `argument`. An argument is information that you pass to a function to customize it. In many cases, the function will not work without arguments. Arguments are placed between the parentheses of the function, and are separated by commas. \n",
    "\n",
    "The second argument we will use is `sep`. This is short for `separator`. It tells the function which character is used to separate the columns in the CSV file. The default separator is a comma, but you can also use a semicolon, tab, or any other character. Since the comma is the default separator, you technically don't have to specify it, but we do it here for illustration purposes.\n",
    "\n",
    "You can give your DataFrame any name you want, but it is common to call it `df`. This is short for `DataFrame`."
   ]
  },
  {
   "cell_type": "code",
   "execution_count": 3,
   "metadata": {},
   "outputs": [],
   "source": [
    "df = pd.read_csv('../../data/songs.csv', sep = ',')"
   ]
  },
  {
   "cell_type": "markdown",
   "metadata": {},
   "source": [
    "`pandas` supports many file types, such as Excel files, JSON files, and more. Here is [an overview](https://pandas.pydata.org/docs/reference/io.html) of the supported file types. \n",
    "\n",
    "The function you use to load your data will depend on the file type. For example, the function to load an Excel file is `read_excel()`. See the [official documentation](https://pandas.pydata.org/docs/reference/api/pandas.read_excel.html) for more information about the function and its arguments. "
   ]
  },
  {
   "cell_type": "markdown",
   "metadata": {},
   "source": [
    "#### Inspecting data"
   ]
  },
  {
   "cell_type": "markdown",
   "metadata": {},
   "source": [
    "The `head()` function allows you to see the first 10 rows of the DataFrame. This is useful to get a quick overview of the data."
   ]
  },
  {
   "cell_type": "code",
   "execution_count": null,
   "metadata": {},
   "outputs": [],
   "source": [
    "df.head(5)"
   ]
  },
  {
   "cell_type": "markdown",
   "metadata": {},
   "source": [
    "You can also use the `tail()` function to see the last rows of the DataFrame. You can specify the number of rows you want to see by passing an argument to the function."
   ]
  },
  {
   "cell_type": "code",
   "execution_count": null,
   "metadata": {},
   "outputs": [],
   "source": [
    "df.tail(6)"
   ]
  },
  {
   "cell_type": "markdown",
   "metadata": {},
   "source": [
    "Get a summary of the DataFrame with the `info()` function. This will show you the number of rows, the number of columns, the data types of the columns, and the number of non-null values in each columns."
   ]
  },
  {
   "cell_type": "code",
   "execution_count": null,
   "metadata": {},
   "outputs": [],
   "source": [
    "df.info()"
   ]
  },
  {
   "cell_type": "markdown",
   "metadata": {},
   "source": [
    "#### Data manipulation\n",
    "This section covers some basic operations that you can perform on a DataFrame, such as selecting data, adding values, grouping and sorting. "
   ]
  },
  {
   "cell_type": "markdown",
   "metadata": {},
   "source": [
    "##### Selecting a column.\n",
    "You can grab a single column from the DataFrame by using the column name in square brackets:"
   ]
  },
  {
   "cell_type": "code",
   "execution_count": null,
   "metadata": {},
   "outputs": [],
   "source": [
    "df['song']"
   ]
  },
  {
   "cell_type": "markdown",
   "metadata": {},
   "source": [
    "In practice, you will often want to save it as a list. You can do this by using the `tolist()` function: "
   ]
  },
  {
   "cell_type": "code",
   "execution_count": null,
   "metadata": {},
   "outputs": [],
   "source": [
    "df['song'].tolist()"
   ]
  },
  {
   "cell_type": "markdown",
   "metadata": {},
   "source": [
    "You can also select multiple columns by passing a `list` of column names to the DataFrame."
   ]
  },
  {
   "cell_type": "code",
   "execution_count": null,
   "metadata": {},
   "outputs": [],
   "source": [
    "df[['song', 'artist']]"
   ]
  },
  {
   "cell_type": "markdown",
   "metadata": {},
   "source": [
    "##### Selecting a row"
   ]
  },
  {
   "cell_type": "markdown",
   "metadata": {},
   "source": [
    "There are multiple ways to select a row in a DataFrame. You can use the `iloc` function to select a row by its index. This also works for ranges. "
   ]
  },
  {
   "cell_type": "code",
   "execution_count": null,
   "metadata": {},
   "outputs": [],
   "source": [
    "df.iloc[0]"
   ]
  },
  {
   "cell_type": "markdown",
   "metadata": {},
   "source": [
    "<div class=\"alert alert-block alert-info\">\n",
    "\n",
    "<b>Exercise</b> <p>\n",
    "Use the .iloc function to select a range of 5 rows from the DataFrame.\n",
    "\n",
    "</div>\n",
    "\n"
   ]
  },
  {
   "cell_type": "code",
   "execution_count": null,
   "metadata": {},
   "outputs": [],
   "source": [
    "# Your code here:\n"
   ]
  },
  {
   "cell_type": "markdown",
   "metadata": {},
   "source": [
    "You can also select rows based on a condition. For example, you can select all rows for a specific artist:"
   ]
  },
  {
   "cell_type": "code",
   "execution_count": null,
   "metadata": {},
   "outputs": [],
   "source": [
    "df[df['artist'] == 'Billie Eilish']"
   ]
  },
  {
   "cell_type": "markdown",
   "metadata": {},
   "source": [
    "##### Counting values"
   ]
  },
  {
   "cell_type": "markdown",
   "metadata": {},
   "source": [
    "The function `value_counts()` allows you to count the number of occurrences of each value in a column."
   ]
  },
  {
   "cell_type": "code",
   "execution_count": null,
   "metadata": {},
   "outputs": [],
   "source": [
    "df['language'].value_counts()"
   ]
  },
  {
   "cell_type": "markdown",
   "metadata": {},
   "source": [
    "##### Calculating the average"
   ]
  },
  {
   "cell_type": "markdown",
   "metadata": {},
   "source": [
    "To calculate the average of a column, you can use the `mean()` function. We have to import the function from the `numpy` first because it is not included in `pandas`. \n",
    "\n",
    "Numpy is a package that includes many mathematical functions, and is essential for working with numerical data in Python. "
   ]
  },
  {
   "cell_type": "code",
   "execution_count": null,
   "metadata": {},
   "outputs": [],
   "source": [
    "from numpy import mean\n",
    "lengths = df['length'].tolist()\n",
    "mean(lengths)"
   ]
  },
  {
   "cell_type": "markdown",
   "metadata": {},
   "source": [
    "##### Null values"
   ]
  },
  {
   "cell_type": "markdown",
   "metadata": {},
   "source": [
    "You may have noticed that the `rating` column contains the value `NaN`. This is called a `null value`, and it means that the data is missing. This can happen for many reasons, such as a mistake in the data collection process, or because the data is not available. "
   ]
  },
  {
   "cell_type": "code",
   "execution_count": null,
   "metadata": {},
   "outputs": [],
   "source": [
    "# The DataFrame is printed here again for your convenience:\n",
    "df"
   ]
  },
  {
   "cell_type": "markdown",
   "metadata": {},
   "source": [
    "Null values can cause problems when you are working with data. In the example below, we try to calculate the average rating of the songs. This will not work because the `NaN` values are not a number."
   ]
  },
  {
   "cell_type": "code",
   "execution_count": null,
   "metadata": {},
   "outputs": [],
   "source": [
    "ratings = df['rating'].tolist()\n",
    "mean(ratings)"
   ]
  },
  {
   "cell_type": "markdown",
   "metadata": {},
   "source": [
    "You can find null values in a DataFrame by using the `isnull()` function. This will return a DataFrame with `True` and `False` values. "
   ]
  },
  {
   "cell_type": "code",
   "execution_count": null,
   "metadata": {},
   "outputs": [],
   "source": [
    "df.isnull()"
   ]
  },
  {
   "cell_type": "markdown",
   "metadata": {},
   "source": [
    "The easiest way to deal with null values is to remove them from the data. You can do this by applying the `dropna()` function to the DataFrame. This function will remove any rows that contain null values. "
   ]
  },
  {
   "cell_type": "code",
   "execution_count": null,
   "metadata": {},
   "outputs": [],
   "source": [
    "df_dropped = df.dropna()\n",
    "ratings = df_dropped['rating'].tolist()\n",
    "mean(ratings)"
   ]
  },
  {
   "cell_type": "markdown",
   "metadata": {},
   "source": [
    "See, now it works! "
   ]
  },
  {
   "cell_type": "markdown",
   "metadata": {},
   "source": [
    "The `dropna()` function has an argument called `subset`. This allows you to specify the columns that you want to check for null values, instead of checking all columns. "
   ]
  },
  {
   "cell_type": "markdown",
   "metadata": {},
   "source": [
    "\n",
    "<div class=\"alert alert-block alert-info\">\n",
    "\n",
    "<b>Exercise</b> </p>\n",
    "Take a look at the [official documentation](https://pandas.pydata.org/docs/reference/api/pandas.DataFrame.dropna.html) for the `dropna()` function and try to figure out how to remove rows that contain null values in the `rating` column only. \n",
    "\n",
    "</div>\n",
    "\n",
    "\n",
    "\n",
    "\n"
   ]
  },
  {
   "cell_type": "code",
   "execution_count": null,
   "metadata": {},
   "outputs": [],
   "source": [
    "# Your code here: \n",
    "\n"
   ]
  },
  {
   "cell_type": "markdown",
   "metadata": {},
   "source": [
    "Another option is to manually add a value to replace the NaN value. You can do this with the `.loc` function. This function allows you to select a row and column by their index, and assign a new value to it. "
   ]
  },
  {
   "cell_type": "markdown",
   "metadata": {},
   "source": [
    "\n",
    "<div class=\"alert alert-block alert-info\">\n",
    "\n",
    "<b>Exercise</b> </p>\n",
    "Try to add a rating of choice to the song with the missing value. \\\n",
    "Hint: the syntax looks like this: `df.loc[0, 'rating'] = 5` \n",
    "\n",
    "</div>\n",
    "\n",
    "\n"
   ]
  },
  {
   "cell_type": "code",
   "execution_count": null,
   "metadata": {},
   "outputs": [],
   "source": [
    "# Your code here:\n",
    "\n"
   ]
  },
  {
   "cell_type": "markdown",
   "metadata": {},
   "source": [
    "##### Adding a column"
   ]
  },
  {
   "cell_type": "markdown",
   "metadata": {},
   "source": [
    "In this exercise we will add a new column to an existing DataFrame. One way to do this is by making a `list` with the values you want to add, and assigning it to a new column name. It's important that the length of the list matches the number of rows in the DataFrame, otherwise it will not work. \n",
    "\n",
    "You can use the following syntax to add a column: \n",
    "`df['new_column'] = new_column_list`"
   ]
  },
  {
   "cell_type": "markdown",
   "metadata": {},
   "source": [
    "<div class=\"alert alert-block alert-info\">\n",
    "\n",
    "<b>Exercise</b>  \n",
    "- Make a list that contains a Boolean (True or False) for each song in the DataFrame. This Boolean should be True if you know the song, and False if you don't.\n",
    "- Add the list to the existing DataFrame as a column. Don't forget to come up with a descriptive name for the column.\n",
    "\n",
    "</div>\n"
   ]
  },
  {
   "cell_type": "code",
   "execution_count": null,
   "metadata": {},
   "outputs": [],
   "source": [
    "# Your code here:\n",
    "\n"
   ]
  },
  {
   "cell_type": "markdown",
   "metadata": {},
   "source": [
    "##### Sorting data"
   ]
  },
  {
   "cell_type": "markdown",
   "metadata": {},
   "source": [
    "You can sort the data in a DataFrame by using the `sort_values()` function. This function takes a column name as an argument. You can also specify whether you want to sort the data in ascending or descending order."
   ]
  },
  {
   "cell_type": "code",
   "execution_count": null,
   "metadata": {},
   "outputs": [],
   "source": [
    "df_sorted = df.sort_values(by='rating', ascending=False)"
   ]
  },
  {
   "cell_type": "code",
   "execution_count": null,
   "metadata": {},
   "outputs": [],
   "source": [
    "df_sorted"
   ]
  },
  {
   "cell_type": "markdown",
   "metadata": {},
   "source": [
    "Now it's time to write the data to a file. You can do this by using the `to_csv()` function. This function takes the path to the file as an argument."
   ]
  },
  {
   "cell_type": "code",
   "execution_count": null,
   "metadata": {},
   "outputs": [],
   "source": [
    "df.to_csv('sorted_songs.csv')"
   ]
  },
  {
   "cell_type": "markdown",
   "metadata": {},
   "source": [
    "It's also possible to write the data to a different file type. For example, if your type of choice is an Excel file, you can use the `to_excel()` function."
   ]
  },
  {
   "cell_type": "markdown",
   "metadata": {},
   "source": [
    "We only touched the surface of what you can do with `pandas`. If you can think of a data manipulation task, it's likely that there is a function for it. Consult the documentation or your favorite AI assistant to learn more about the possibilities. "
   ]
  }
 ],
 "metadata": {
  "kernelspec": {
   "display_name": "Python 3 (ipykernel)",
   "language": "python",
   "name": "python3"
  },
  "language_info": {
   "codemirror_mode": {
    "name": "ipython",
    "version": 3
   },
   "file_extension": ".py",
   "mimetype": "text/x-python",
   "name": "python",
   "nbconvert_exporter": "python",
   "pygments_lexer": "ipython3",
   "version": "3.9.13"
  }
 },
 "nbformat": 4,
 "nbformat_minor": 4
}
