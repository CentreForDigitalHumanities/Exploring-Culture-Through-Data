{
 "cells": [
  {
   "cell_type": "markdown",
   "metadata": {},
   "source": [
    "## Values and Data Types"
   ]
  },
  {
   "cell_type": "markdown",
   "metadata": {},
   "source": [
    "Python has 4 so-called primitive data types: \n",
    "- `int` for integer numbers (e.g. 1, 2, -3, 486)\n",
    "- `float` for floating-point numbers (e.g. 0.5, 3.14, -0.0001)\n",
    "- `str` for strings (e.g. \"hello\", \"pasta\", \"123\")\n",
    "- `bool` for boolean values (True, False)"
   ]
  },
  {
   "cell_type": "markdown",
   "metadata": {},
   "source": []
  }
 ],
 "metadata": {
  "language_info": {
   "name": "python"
  }
 },
 "nbformat": 4,
 "nbformat_minor": 2
}
