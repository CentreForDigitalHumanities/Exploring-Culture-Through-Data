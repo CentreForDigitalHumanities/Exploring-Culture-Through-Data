{
 "cells": [
  {
   "cell_type": "markdown",
   "metadata": {},
   "source": [
    "## 1c: Containers"
   ]
  },
  {
   "cell_type": "markdown",
   "metadata": {},
   "source": [
    "This notebook discusses the various ways in which data can be stored in Python. There are four main types of containers in Python: `lists`, `sets`, and `dictionaries`. Each of these containers has its own unique syntax, properties and use cases. \n",
    "\n"
   ]
  },
  {
   "cell_type": "markdown",
   "metadata": {},
   "source": [
    "#### Lists\n",
    "\n",
    "A `list` is an `ordered` collection of items. Lists are created by placing the values inside square brackets `[]`, separated by commas. \n",
    "\n",
    "Below you see a few examples."
   ]
  },
  {
   "cell_type": "code",
   "execution_count": 2,
   "metadata": {},
   "outputs": [],
   "source": [
    "# This list only contains strings\n",
    "groceries = [\"apple\", \"sugar\", \"flour\", \"butter\", \"cinnamon\"]"
   ]
  },
  {
   "cell_type": "code",
   "execution_count": 3,
   "metadata": {},
   "outputs": [],
   "source": [
    "# This list contains a mix of data types \n",
    "mixed = [\"apple\", 3, 4.5, True]"
   ]
  },
  {
   "cell_type": "code",
   "execution_count": 4,
   "metadata": {},
   "outputs": [],
   "source": [
    "milky_way = [\"venus\", \"earth\", \"mars\", \"jupiter\"]\n",
    "andromeda = [\"PA-99-N2\"]\n",
    "\n",
    "# This list contains other lists\n",
    "galaxy = [milky_way, andromeda]"
   ]
  },
  {
   "cell_type": "markdown",
   "metadata": {},
   "source": [
    "In lists, the order matters. Each element has an `index` corresponding to a fixed position in the list. Like accessing strings, you can access elements in a list using their index. The first element has index 0, the second element has index 1, and so on. "
   ]
  },
  {
   "cell_type": "code",
   "execution_count": 5,
   "metadata": {},
   "outputs": [
    {
     "data": {
      "text/plain": [
       "'venus'"
      ]
     },
     "execution_count": 5,
     "metadata": {},
     "output_type": "execute_result"
    }
   ],
   "source": [
    "milky_way[0]"
   ]
  },
  {
   "cell_type": "code",
   "execution_count": 6,
   "metadata": {},
   "outputs": [
    {
     "data": {
      "text/plain": [
       "'earth'"
      ]
     },
     "execution_count": 6,
     "metadata": {},
     "output_type": "execute_result"
    }
   ],
   "source": [
    "milky_way[1]"
   ]
  },
  {
   "cell_type": "code",
   "execution_count": 7,
   "metadata": {},
   "outputs": [
    {
     "data": {
      "text/plain": [
       "'jupiter'"
      ]
     },
     "execution_count": 7,
     "metadata": {},
     "output_type": "execute_result"
    }
   ],
   "source": [
    "milky_way[-1]"
   ]
  },
  {
   "cell_type": "markdown",
   "metadata": {},
   "source": [
    "Select multiple elements from a list by using the `:` operator."
   ]
  },
  {
   "cell_type": "markdown",
   "metadata": {},
   "source": [
    "> Exercise 3.1: \\\n",
    "Predict the output of the following code cell. If it's not in line with your expectations, try to understand why."
   ]
  },
  {
   "cell_type": "code",
   "execution_count": null,
   "metadata": {},
   "outputs": [],
   "source": [
    "milky_way[1:3]"
   ]
  },
  {
   "cell_type": "markdown",
   "metadata": {},
   "source": [
    "Lists are `mutable`, meaning that you can manipulate the values of the elements in a list after it has been created. You can add or remove elements from a list, change the value of an element, or even change the order of the elements."
   ]
  },
  {
   "cell_type": "code",
   "execution_count": 11,
   "metadata": {},
   "outputs": [],
   "source": [
    "# This will add \"saturn\" to the end of the list\n",
    "milky_way.append(\"saturn\")"
   ]
  },
  {
   "cell_type": "code",
   "execution_count": 12,
   "metadata": {},
   "outputs": [
    {
     "name": "stdout",
     "output_type": "stream",
     "text": [
      "['venus', 'earth', 'mars', 'jupiter', 'saturn']\n"
     ]
    }
   ],
   "source": [
    "print(milky_way)"
   ]
  },
  {
   "cell_type": "code",
   "execution_count": 13,
   "metadata": {},
   "outputs": [],
   "source": [
    "# This will remove \"earth\" from the list\n",
    "milky_way.remove(\"earth\")"
   ]
  },
  {
   "cell_type": "code",
   "execution_count": 14,
   "metadata": {},
   "outputs": [
    {
     "name": "stdout",
     "output_type": "stream",
     "text": [
      "['venus', 'mars', 'jupiter', 'saturn']\n"
     ]
    }
   ],
   "source": [
    "print(milky_way)"
   ]
  },
  {
   "cell_type": "markdown",
   "metadata": {},
   "source": [
    "It's possible to check if an element is in a list by using the `in` operator. It will return a `Boolean` value."
   ]
  },
  {
   "cell_type": "code",
   "execution_count": 15,
   "metadata": {},
   "outputs": [
    {
     "data": {
      "text/plain": [
       "False"
      ]
     },
     "execution_count": 15,
     "metadata": {},
     "output_type": "execute_result"
    }
   ],
   "source": [
    "\"earth\" in milky_way"
   ]
  },
  {
   "cell_type": "code",
   "execution_count": 16,
   "metadata": {},
   "outputs": [
    {
     "data": {
      "text/plain": [
       "True"
      ]
     },
     "execution_count": 16,
     "metadata": {},
     "output_type": "execute_result"
    }
   ],
   "source": [
    "\"venus\" in milky_way"
   ]
  },
  {
   "cell_type": "markdown",
   "metadata": {},
   "source": [
    "You can use the `len()` function to get the number of elements in a list."
   ]
  },
  {
   "cell_type": "code",
   "execution_count": 17,
   "metadata": {},
   "outputs": [
    {
     "data": {
      "text/plain": [
       "4"
      ]
     },
     "execution_count": 17,
     "metadata": {},
     "output_type": "execute_result"
    }
   ],
   "source": [
    "len(milky_way)"
   ]
  },
  {
   "cell_type": "markdown",
   "metadata": {},
   "source": [
    "##### Optional \n",
    "There's a lot more you can do with lists. A great place to start is checking the built-in methods. You can get an overview of the available methods with the `dir()` function. You can apply this to any object in Python, so give it a try if you want to know more about a specific object."
   ]
  },
  {
   "cell_type": "code",
   "execution_count": null,
   "metadata": {},
   "outputs": [],
   "source": [
    "dir(list)"
   ]
  },
  {
   "cell_type": "code",
   "execution_count": 2,
   "metadata": {},
   "outputs": [],
   "source": [
    "# For now, ignore the methods that start with __\n",
    "# Use this cell to explore the methods available for lists\n"
   ]
  },
  {
   "cell_type": "markdown",
   "metadata": {},
   "source": [
    "#### Sets\n",
    "\n",
    "Sets are `unordered` collections of `unique` elements. Sets are created by placing the values inside the `set()` constructor, separated by commas. Alternatively, you can use curly brackets `{}` to create a set.\n",
    "\n",
    "Sets are often used to remove duplicates from a list, or to check if a value is in a collection (because it's faster than in lists).\n",
    "\n",
    "Below are some examples of sets."
   ]
  },
  {
   "cell_type": "code",
   "execution_count": 5,
   "metadata": {},
   "outputs": [
    {
     "name": "stdout",
     "output_type": "stream",
     "text": [
      "{1, 2, 4}\n"
     ]
    }
   ],
   "source": [
    "# You can make a set from a list, but the set will only contain unique values\n",
    "numbers = [1,2,2,2,4] # This is a list (see the square brackets)\n",
    "\n",
    "unique_numbers = set(numbers) # This is a set\n",
    "print(unique_numbers)"
   ]
  },
  {
   "cell_type": "code",
   "execution_count": 13,
   "metadata": {},
   "outputs": [
    {
     "name": "stdout",
     "output_type": "stream",
     "text": [
      "{True, 'red', 45, 'yellow'}\n"
     ]
    }
   ],
   "source": [
    "# Sets can only contain immutable objects (like strings or numbers)\n",
    "mixed_set = {'yellow', 45, True, 'red'}\n",
    "print(mixed_set)"
   ]
  },
  {
   "cell_type": "code",
   "execution_count": 14,
   "metadata": {},
   "outputs": [
    {
     "ename": "TypeError",
     "evalue": "unhashable type: 'list'",
     "output_type": "error",
     "traceback": [
      "\u001b[0;31m---------------------------------------------------------------------------\u001b[0m",
      "\u001b[0;31mTypeError\u001b[0m                                 Traceback (most recent call last)",
      "\u001b[1;32m/Users/5610710/Documents/data_school/SummerSchool24/Summer-School-2024/code/1c_containers.ipynb Cell 30\u001b[0m line \u001b[0;36m3\n\u001b[1;32m      <a href='vscode-notebook-cell:/Users/5610710/Documents/data_school/SummerSchool24/Summer-School-2024/code/1c_containers.ipynb#X61sZmlsZQ%3D%3D?line=0'>1</a>\u001b[0m \u001b[39m# Adding a mutable object (like a list) will raise an error\u001b[39;00m\n\u001b[1;32m      <a href='vscode-notebook-cell:/Users/5610710/Documents/data_school/SummerSchool24/Summer-School-2024/code/1c_containers.ipynb#X61sZmlsZQ%3D%3D?line=1'>2</a>\u001b[0m count_list \u001b[39m=\u001b[39m [\u001b[39m1\u001b[39m,\u001b[39m2\u001b[39m,\u001b[39m3\u001b[39m]\n\u001b[0;32m----> <a href='vscode-notebook-cell:/Users/5610710/Documents/data_school/SummerSchool24/Summer-School-2024/code/1c_containers.ipynb#X61sZmlsZQ%3D%3D?line=2'>3</a>\u001b[0m mixed_set\u001b[39m.\u001b[39;49madd(count_list)\n",
      "\u001b[0;31mTypeError\u001b[0m: unhashable type: 'list'"
     ]
    }
   ],
   "source": [
    "# Adding a mutable object (like a list) will raise an error\n",
    "count_list = [1,2,3]\n",
    "mixed_set.add(count_list)"
   ]
  },
  {
   "cell_type": "markdown",
   "metadata": {},
   "source": [
    "Because sets are unordered, you can't access elements using an index. Moreover, the order of the elements in a set is not guaranteed to be the same as the order in which they were added (contrary to lists):"
   ]
  },
  {
   "cell_type": "code",
   "execution_count": 15,
   "metadata": {},
   "outputs": [
    {
     "name": "stdout",
     "output_type": "stream",
     "text": [
      "{1, 2, 3}\n"
     ]
    }
   ],
   "source": [
    "numbers = set()\n",
    "numbers.add(2)\n",
    "numbers.add(1)\n",
    "numbers.add(3)\n",
    "\n",
    "print(numbers)"
   ]
  },
  {
   "cell_type": "markdown",
   "metadata": {},
   "source": [
    "Here's an overview of the most important differences between sets and lists. During this course, you will probably use lists more often than sets, but it's good to know that sets exist and what they can be used for.\n",
    "\n",
    "| property   | set  | list | \n",
    "|--------- |---------|---|\n",
    "| **can** contain duplicates     | no   |         yes         | \n",
    "| **ordered**     | no   | yes                |  \n",
    "| **finding** elements     | relatively quick | relatively slow              | \n",
    "| **can** contain     | immutable objects   | all objects                |\n",
    "\n",
    "If you're familiar with set theory, it's good to know that Python sets are based on the mathematical concept of sets. You can perform set operations like union, intersection, difference, and symmetric difference on sets. Don't worry if you're not familiar with these terms; they're not necessary for this course."
   ]
  },
  {
   "cell_type": "markdown",
   "metadata": {},
   "source": [
    "#### Dictionaries\n",
    "\n",
    "The last container we will discuss is the `dictionary`. Dictionaries allow you to tie pieces of information together and store them in a single structure. \n",
    "\n",
    "Dictionaries are `unordered` collections of `key`-`value` pairs. Dictionaries are created by placing the key-value pairs inside curly brackets `{}`, separated by commas. The key and value are separated by a colon `:`. \n",
    "\n",
    "Here's an example of a dictionary:"
   ]
  },
  {
   "cell_type": "code",
   "execution_count": 11,
   "metadata": {},
   "outputs": [
    {
     "name": "stdout",
     "output_type": "stream",
     "text": [
      "{'apple': 5, 'sugar': 2, 'flour': 3, 'butter': 2, 'cinnamon': 1}\n"
     ]
    }
   ],
   "source": [
    "groceries = {\"apple\": 5, \"sugar\": 2, \"flour\": 3, \"butter\": 2, \"cinnamon\": 1}\n",
    "print(groceries)"
   ]
  },
  {
   "cell_type": "markdown",
   "metadata": {},
   "source": [
    "In this example, \"apple\", \"sugar\", \"flour\", \"butter\", and \"cinnamon\" are called `keys`. The numbers 5, 2, 3, 2, and 1 are called `values`.\n",
    "\n",
    "Dictionaries are `mutable`, meaning you can assign or reassign values by the key. Dictionary keys are `unique`, meaning that you can't have two keys with the same name in a dictionary. Similarly, if you write something to a key that already exists, it will overwrite the previous value. If the key is not in the dictionary yet, it creates the key-value pair.\n"
   ]
  },
  {
   "cell_type": "code",
   "execution_count": 21,
   "metadata": {},
   "outputs": [
    {
     "name": "stdout",
     "output_type": "stream",
     "text": [
      "{'apple': 4, 'sugar': 2, 'flour': 3, 'butter': 2, 'cinnamon': 1, 'oats': 1}\n"
     ]
    }
   ],
   "source": [
    "groceries[\"apple\"] = 4\n",
    "groceries[\"oats\"] = 1\n",
    "print(groceries)"
   ]
  },
  {
   "cell_type": "markdown",
   "metadata": {},
   "source": [
    "You can delete a key-value pair from a dictionary by using the `del` keyword."
   ]
  },
  {
   "cell_type": "code",
   "execution_count": 22,
   "metadata": {},
   "outputs": [
    {
     "name": "stdout",
     "output_type": "stream",
     "text": [
      "{'apple': 4, 'flour': 3, 'butter': 2, 'cinnamon': 1, 'oats': 1}\n"
     ]
    }
   ],
   "source": [
    "del groceries[\"sugar\"]\n",
    "print(groceries)"
   ]
  },
  {
   "cell_type": "markdown",
   "metadata": {},
   "source": [
    "Beause dictionaries are `unordered`, you can't access the values by index. You can, however, access the keys and values by using the `keys()`, `values()` or `item()` methods. "
   ]
  },
  {
   "cell_type": "code",
   "execution_count": 25,
   "metadata": {},
   "outputs": [
    {
     "name": "stdout",
     "output_type": "stream",
     "text": [
      "dict_keys(['apple', 'flour', 'butter', 'cinnamon', 'oats'])\n",
      "dict_values([4, 3, 2, 1, 1])\n",
      "dict_items([('apple', 4), ('flour', 3), ('butter', 2), ('cinnamon', 1), ('oats', 1)])\n"
     ]
    }
   ],
   "source": [
    "# What are all groceries in our dictionary? \n",
    "print(groceries.keys())\n",
    "\n",
    "# How many of each grocery do we have?\n",
    "print(groceries.values())\n",
    "\n",
    "# What are all groceries and their quantities?\n",
    "print(groceries.items())"
   ]
  },
  {
   "cell_type": "markdown",
   "metadata": {},
   "source": [
    "> Exercise 3.2: \\\n",
    "Use Python to keep track of the grades of a few fictional students. Create a dictionary with the names of the students as keys and their fictional grades as values. "
   ]
  },
  {
   "cell_type": "code",
   "execution_count": null,
   "metadata": {},
   "outputs": [],
   "source": [
    "# Your code here: \n"
   ]
  },
  {
   "cell_type": "markdown",
   "metadata": {},
   "source": [
    "> Exercise 3.3: \\\n",
    "Print the names of the students in the dictionary. "
   ]
  },
  {
   "cell_type": "code",
   "execution_count": null,
   "metadata": {},
   "outputs": [],
   "source": [
    "# Your code here: \n"
   ]
  },
  {
   "cell_type": "markdown",
   "metadata": {},
   "source": [
    "> Exercise 3.4: \\\n",
    "Choose one of the students and print their grade."
   ]
  },
  {
   "cell_type": "code",
   "execution_count": 16,
   "metadata": {},
   "outputs": [],
   "source": [
    "# Your code here: \n"
   ]
  }
 ],
 "metadata": {
  "kernelspec": {
   "display_name": "base",
   "language": "python",
   "name": "python3"
  },
  "language_info": {
   "codemirror_mode": {
    "name": "ipython",
    "version": 3
   },
   "file_extension": ".py",
   "mimetype": "text/x-python",
   "name": "python",
   "nbconvert_exporter": "python",
   "pygments_lexer": "ipython3",
   "version": "3.11.7"
  }
 },
 "nbformat": 4,
 "nbformat_minor": 2
}
