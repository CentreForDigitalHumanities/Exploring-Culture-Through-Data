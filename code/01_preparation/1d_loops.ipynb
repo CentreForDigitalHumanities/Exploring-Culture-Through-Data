{
 "cells": [
  {
   "cell_type": "markdown",
   "metadata": {},
   "source": [
    "# Loops\n",
    "You made it to the final notebook of the preparation materials! This one is quite short but discusses a very important concept in programming: loops.\n",
    "\n",
    "The power of programming comes from the ability to repeat a task many times. This is done using loops. The most important loops in programming are the `for` loop and the `while` loop. In this notebook, we will discuss the `for` loop.\n",
    "\n",
    "The `for` loop is used to `iterate` (or loop) over an object (strings, lists, sets etc.). It is used when you know the number of times you want to repeat a task (for example, you want to print a message 10 times, or do a manipulation for all items in a list).\n",
    "\n",
    "Let's look at the most common use of a for loop: iterating over a list."
   ]
  },
  {
   "cell_type": "code",
   "execution_count": null,
   "metadata": {},
   "outputs": [],
   "source": [
    "# Declare a list of strings\n",
    "capitals = [\"Tokyo\", \"London\", \"Antananarivo\"]\n",
    "\n",
    "# Iterate over the list. Note the indentation\n",
    "for capital in capitals:\n",
    "    print(capital)"
   ]
  },
  {
   "cell_type": "markdown",
   "metadata": {},
   "source": [
    "Note that the variable name `capital` is just something I chose. You can name it anything you want. It is only a placeholder for the current item in the list. You can try to change it to something else and see if it still works."
   ]
  },
  {
   "cell_type": "markdown",
   "metadata": {},
   "source": [
    "The `for` loop is often combined with an `if` statement to perform a certain task only when a condition is met. This is called a `nested loop`. See the example below."
   ]
  },
  {
   "cell_type": "code",
   "execution_count": null,
   "metadata": {},
   "outputs": [],
   "source": [
    "for capital in capitals: \n",
    "    if len(capital) > 10: \n",
    "        print(capital)"
   ]
  },
  {
   "cell_type": "markdown",
   "metadata": {},
   "source": [
    "Let's look at another example. This one is especially relevant for text analysis. We use the built-in function `split()` to split a string into a list of words. We then iterate over the list of words and print each word."
   ]
  },
  {
   "cell_type": "code",
   "execution_count": null,
   "metadata": {},
   "outputs": [],
   "source": [
    "sentence = \"The quick brown fox jumps over the lazy dog\"\n",
    "words = sentence.split() \n",
    "\n",
    "for word in words: \n",
    "    print(word)"
   ]
  },
  {
   "cell_type": "markdown",
   "metadata": {},
   "source": [
    "\n",
    "\n",
    "<div class=\"alert alert-block alert-info\">\n",
    "Exercise: <p>\n",
    "Try to guess the output of the following cell before running it.\n",
    "\n",
    "\n",
    "</div>"
   ]
  },
  {
   "cell_type": "code",
   "execution_count": null,
   "metadata": {},
   "outputs": [],
   "source": [
    "for x in sentence: \n",
    "    print(x)"
   ]
  },
  {
   "cell_type": "markdown",
   "metadata": {},
   "source": [
    "The `break` statement can be used to exit a loop. This is useful when you want to stop the loop when a certain value is encountered: "
   ]
  },
  {
   "cell_type": "code",
   "execution_count": null,
   "metadata": {},
   "outputs": [],
   "source": [
    "word = \"Rhinoceros\"\n",
    "\n",
    "for letter in word: \n",
    "    print(letter)\n",
    "    if letter == \"o\": \n",
    "        break"
   ]
  },
  {
   "cell_type": "markdown",
   "metadata": {},
   "source": [
    "Now you know the most essential concepts of loops, and Python in general! You're well-prepared for the Summer School. Take some time to let the concepts sink in, and try to experiment with the code in the notebooks. Check out the additional resources if you want to learn more. \n",
    "\n",
    "See you soon! \n",
    "\n"
   ]
  }
 ],
 "metadata": {
  "kernelspec": {
   "display_name": "Python 3",
   "language": "python",
   "name": "python3"
  },
  "language_info": {
   "codemirror_mode": {
    "name": "ipython",
    "version": 3
   },
   "file_extension": ".py",
   "mimetype": "text/x-python",
   "name": "python",
   "nbconvert_exporter": "python",
   "pygments_lexer": "ipython3",
   "version": "3.11.7"
  }
 },
 "nbformat": 4,
 "nbformat_minor": 2
}
