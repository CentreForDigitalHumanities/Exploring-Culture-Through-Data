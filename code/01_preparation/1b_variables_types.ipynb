{
 "cells": [
  {
   "cell_type": "markdown",
   "metadata": {},
   "source": [
    "## Part 1b: Variables and Data Types"
   ]
  },
  {
   "cell_type": "markdown",
   "metadata": {},
   "source": [
    "So far, we have learned we can use Python to print text to the screen, and use it as a calculator. We have already encountered a few data types, such as strings and integers. This notebook gives an overview of the most common data types, as well as some of the most common operations that can be performed on them. But first we will discuss an essential concept in programming: variables."
   ]
  },
  {
   "cell_type": "markdown",
   "metadata": {},
   "source": [
    "#### Variables \n",
    "In the previous notebook, you encountered a so-called `variable`. A variable can be seen as a box that holds one or more values. This value can be a number, a string, a list, or any other data type. \n",
    "\n",
    "You can give a variable (almost) any name you want. Best practice is to give your variables a name that describes what they are used for. If you're interested in the naming conventions for Python variables, you can read more about it [in the style guide](https://peps.python.org/pep-0008/). \n",
    "\n",
    "The `=` operator is used to `assign` a value to a variable. Let's look at the example below."
   ]
  },
  {
   "cell_type": "code",
   "execution_count": null,
   "metadata": {},
   "outputs": [],
   "source": [
    "colors = [\"red\", \"green\", \"blue\"]\n",
    "print(colors)"
   ]
  },
  {
   "cell_type": "code",
   "execution_count": null,
   "metadata": {},
   "outputs": [],
   "source": [
    "pi = 3.14159\n",
    "print(pi)"
   ]
  },
  {
   "cell_type": "markdown",
   "metadata": {},
   "source": [
    "Python works sequentially, so the order in which you define your variables matters. \n",
    "\n",
    "If you use a variable that is not yet defined, you will get an error."
   ]
  },
  {
   "cell_type": "code",
   "execution_count": null,
   "metadata": {},
   "outputs": [],
   "source": [
    "print(soup)\n",
    "soup = [\"broth\", \"union\", \"carrots\", \"celery\", \"noodles\"]"
   ]
  },
  {
   "cell_type": "markdown",
   "metadata": {},
   "source": [
    "If you re-use a variable name, the old value will be overwritten by the new value. "
   ]
  },
  {
   "cell_type": "code",
   "execution_count": null,
   "metadata": {},
   "outputs": [],
   "source": [
    "pasta = \"bad\"\n",
    "pasta = \"good\"\n",
    "print(pasta)"
   ]
  },
  {
   "cell_type": "markdown",
   "metadata": {},
   "source": [
    "#### Data Types\n",
    "Python is an object-oriented programming language. This means that everything in Python is treated as a kind of object that can be manipulated. \n",
    "\n",
    "These objects can take the form of different `data types`. The data type of an object determines what can be done with it. The most common data types are:\n",
    "- `int` for integer numbers (e.g. 1, 2, -3, 486)\n",
    "- `float` for floating-point numbers (e.g. 0.5, 3.14, -0.0001)\n",
    "- `str` for strings/text (e.g. \"hello\", \"pasta\", \"123\")\n",
    "- `bool` for boolean values (True, False)\n",
    "\n"
   ]
  },
  {
   "cell_type": "markdown",
   "metadata": {},
   "source": [
    "### Differences between types\n",
    "Use the function `type()` to check the type of a value or variable."
   ]
  },
  {
   "cell_type": "code",
   "execution_count": null,
   "metadata": {},
   "outputs": [],
   "source": [
    "type(10)"
   ]
  },
  {
   "cell_type": "code",
   "execution_count": null,
   "metadata": {},
   "outputs": [],
   "source": [
    "type(10.10)"
   ]
  },
  {
   "cell_type": "code",
   "execution_count": null,
   "metadata": {},
   "outputs": [],
   "source": [
    "type(\"10\")"
   ]
  },
  {
   "cell_type": "code",
   "execution_count": null,
   "metadata": {},
   "outputs": [],
   "source": [
    "type(pi)"
   ]
  },
  {
   "cell_type": "markdown",
   "metadata": {},
   "source": [
    "Knowing the data type you're working with is important because they determine what you can do with the data. For example, you can add two integers or floats together, but you can't add an integer and a string. "
   ]
  },
  {
   "cell_type": "code",
   "execution_count": null,
   "metadata": {},
   "outputs": [],
   "source": [
    "10 + 10.10 "
   ]
  },
  {
   "cell_type": "code",
   "execution_count": null,
   "metadata": {},
   "outputs": [],
   "source": [
    "10 + \"10.10\""
   ]
  },
  {
   "cell_type": "markdown",
   "metadata": {},
   "source": [
    "The data type may also determine which functions or methods you can use on the data."
   ]
  },
  {
   "cell_type": "code",
   "execution_count": null,
   "metadata": {},
   "outputs": [],
   "source": [
    "# You can use the `len()` function to get the length of a string: \n",
    "len(\"beautiful soup\")"
   ]
  },
  {
   "cell_type": "code",
   "execution_count": null,
   "metadata": {},
   "outputs": [],
   "source": [
    "# But not the length of a number:\n",
    "len(86)"
   ]
  },
  {
   "cell_type": "markdown",
   "metadata": {},
   "source": [
    "#### Strings\n",
    "\n",
    "`Strings` are sequences of characters. They should always be enclosed in quotes (either single or double). If you forget the quotes, Python will think you're referring to a variable. \n",
    "\n",
    "Strings have a lot of built-in `methods` that you can use to manipulate the data. You can recognize a method by the dot `.` after the variable name. Let's take a look at some of them. "
   ]
  },
  {
   "cell_type": "code",
   "execution_count": null,
   "metadata": {},
   "outputs": [],
   "source": [
    "sentence = \"Dua Lipa is an English and Albanian singer, songwriter, and model.\""
   ]
  },
  {
   "cell_type": "code",
   "execution_count": null,
   "metadata": {},
   "outputs": [],
   "source": [
    "sentence.lower()"
   ]
  },
  {
   "cell_type": "code",
   "execution_count": null,
   "metadata": {},
   "outputs": [],
   "source": [
    "sentence.upper()"
   ]
  },
  {
   "cell_type": "markdown",
   "metadata": {},
   "source": [
    "> Exercise 2.1: \\\n",
    "> Predict the output of the following cell. Pay attention to the case of the letters. \\\n",
    "> Did it match you expectations? "
   ]
  },
  {
   "cell_type": "code",
   "execution_count": null,
   "metadata": {},
   "outputs": [],
   "source": [
    "print(sentence)"
   ]
  },
  {
   "cell_type": "markdown",
   "metadata": {},
   "source": [
    "> Exercise 2.2: \\\n",
    "> Can you add one line before the print statement to make the output uppercase? \\\n",
    "> (so without changing the print statement) \\\n",
    "> Hint: use a variable. "
   ]
  },
  {
   "cell_type": "code",
   "execution_count": null,
   "metadata": {},
   "outputs": [],
   "source": [
    "# Your code here... \n",
    "\n",
    "\n",
    "print(sentence)"
   ]
  },
  {
   "cell_type": "markdown",
   "metadata": {},
   "source": [
    "During this Summer School, we will often encounter strings since we're working with text analysis. To avoid some later errors, it's good to learn a bit more about the syntax. There is no difference between single and double quotes: "
   ]
  },
  {
   "cell_type": "code",
   "execution_count": null,
   "metadata": {},
   "outputs": [],
   "source": [
    "print(\"quote\")\n",
    "print('quote')"
   ]
  },
  {
   "cell_type": "markdown",
   "metadata": {},
   "source": [
    "However, if you want to use a quote inside a string, you need to use the other type of quote to enclose the string: "
   ]
  },
  {
   "cell_type": "code",
   "execution_count": null,
   "metadata": {},
   "outputs": [],
   "source": [
    "# This will lead to an error\n",
    "print('Let's go!')"
   ]
  },
  {
   "cell_type": "code",
   "execution_count": null,
   "metadata": {},
   "outputs": [],
   "source": [
    "# You can fix it by using double quotes\n",
    "print(\"Let's go!\")"
   ]
  },
  {
   "cell_type": "markdown",
   "metadata": {},
   "source": [
    "Another option is to use the escape character `\\` before the quote. The escape character tells Python to ignore the special meaning of the character that follows it:"
   ]
  },
  {
   "cell_type": "code",
   "execution_count": null,
   "metadata": {},
   "outputs": [],
   "source": [
    "print('Let\\'s go!')"
   ]
  },
  {
   "cell_type": "markdown",
   "metadata": {},
   "source": [
    "##### Slicing"
   ]
  },
  {
   "cell_type": "markdown",
   "metadata": {},
   "source": [
    "Since strings are sequences of characters, you can also access individual characters by their index. The index starts at 0. The following table shows all characters of the sentence \"Drink your tea\" in the first row. The second and third row show the positive and negative indices for each character:\n",
    "\n",
    "| Character      | D   | r   | i   | n   | k   | &nbsp;   | y  | o  | u  | r  |  &nbsp;  | t  | e  | a  |\n",
    "|----------------|-----|-----|-----|-----|-----|----|----|----|----|----|----|----|----|----|\n",
    "| Positive index | 0   | 1   | 2   | 3   | 4   | 5  | 6  | 7  | 8  | 9  | 10 | 11 | 12 | 13 |\n",
    "| Negative index | -14 | -13 | -12 | -11 | -10 | -9 | -8 | -7 | -6 | -5 | -4 | -3 | -2 | -1 |\n",
    "\n",
    "\n",
    "You can access the strings by their index using square brackets `[]`: "
   ]
  },
  {
   "cell_type": "code",
   "execution_count": null,
   "metadata": {},
   "outputs": [],
   "source": [
    "task = \"Drink your tea\"\n",
    "print(task[2])\n",
    "print(task[-1])"
   ]
  },
  {
   "cell_type": "markdown",
   "metadata": {},
   "source": [
    "If you want to grab a range of characters, you can use the colon `:`. This is called `slicing`. "
   ]
  },
  {
   "cell_type": "code",
   "execution_count": null,
   "metadata": {},
   "outputs": [],
   "source": [
    "# Example: \n",
    "print(task[0:5])"
   ]
  },
  {
   "cell_type": "markdown",
   "metadata": {},
   "source": [
    "\n",
    "\n",
    "Here's a quick overview of the syntax. Note that `i` can be any number, and `start` and `end` are the indices of the characters you want to grab. \n",
    "\n",
    "| Syntax                 | Description                                                                 |\n",
    "|------------------------|-----------------------------------------------------------------------------|\n",
    "| `my_string[i]`         | Get the character at index `i`.                                             |\n",
    "| `my_string[start:end]` | Get the substring starting at `start` and ending *before* `end`.            |\n",
    "| `my_string[start:end:stepsize]` | Get all characters starting from `start`, ending before `end`, with a specific step size. |\n",
    "| `my_string[:i]`        | Get the substring starting at index 0 and ending just before `i`.           |\n",
    "| `my_string[i:]`        | Get the substring starting at `i` and running all the way to the end.       |"
   ]
  },
  {
   "cell_type": "markdown",
   "metadata": {},
   "source": [
    "> Exercise 2.3: \\\n",
    "> Can you predict what the following cells will print? "
   ]
  },
  {
   "cell_type": "code",
   "execution_count": null,
   "metadata": {},
   "outputs": [],
   "source": [
    "task = \"Pet your cat\"\n",
    "\n",
    "print(task[4])"
   ]
  },
  {
   "cell_type": "code",
   "execution_count": null,
   "metadata": {},
   "outputs": [],
   "source": [
    "print(task[-3])"
   ]
  },
  {
   "cell_type": "code",
   "execution_count": null,
   "metadata": {},
   "outputs": [],
   "source": [
    "print(task[4:7])"
   ]
  },
  {
   "cell_type": "code",
   "execution_count": null,
   "metadata": {},
   "outputs": [],
   "source": [
    "print(task[-3:])"
   ]
  },
  {
   "cell_type": "markdown",
   "metadata": {},
   "source": [
    "#### Booleans \n",
    "Let's take a look at Boolean values. These are values that can be either `True` or `False`, and can be useful for making decisions in your code, or for checking if a condition is met. \n",
    "\n",
    "Here's a overview of the possible Boolean operators: \n",
    "\n",
    "| Operator | Meaning | `True` | `False` |\n",
    "|-----------|--------|--------|--------|\n",
    "| `==` |\tequal\t | `2 == 2` | `2 == 3` | \n",
    "| `!=` |\tnot equal\t| `3 != 2` | `2 != 2` |\n",
    "| `<` | less than | `2 < 13`  | `2 < 2` |\n",
    "| `<=` |\tless than or equal to \t|  `2 <= 2` | `3 <= 2`  |\n",
    "| `>` |\tgreater than \t | `13 > 2`  | `2 > 13`  |\n",
    "| `>=` |\tgreather than or equal to   |  `3 >= 3`  | `2 >= 3`  |\n"
   ]
  },
  {
   "cell_type": "markdown",
   "metadata": {},
   "source": [
    "Note that `==` is used to signal 'equals'. A single `=` is used to assign a value to a variable."
   ]
  },
  {
   "cell_type": "markdown",
   "metadata": {},
   "source": [
    "> Exercise 2.4: \\\n",
    "Guess the output of the following cells based on the table about operators above. Will the outcome be `True` or `False`?"
   ]
  },
  {
   "cell_type": "code",
   "execution_count": null,
   "metadata": {},
   "outputs": [],
   "source": [
    "print(10 == 10)"
   ]
  },
  {
   "cell_type": "code",
   "execution_count": null,
   "metadata": {},
   "outputs": [],
   "source": [
    "print(10 < 100)"
   ]
  },
  {
   "cell_type": "code",
   "execution_count": null,
   "metadata": {},
   "outputs": [],
   "source": [
    "print(10 <= 10)"
   ]
  },
  {
   "cell_type": "code",
   "execution_count": null,
   "metadata": {},
   "outputs": [],
   "source": [
    "print(1 == '1')"
   ]
  },
  {
   "cell_type": "code",
   "execution_count": null,
   "metadata": {},
   "outputs": [],
   "source": [
    "print((2 > 1 ) == (3 > 1))"
   ]
  },
  {
   "cell_type": "markdown",
   "metadata": {},
   "source": [
    "Boolean conditions are often used in `if` statements. These are used to check if a condition is met, and if so, execute a block of code. \n",
    "\n",
    "Try changing the value of `temperature` below and see what happens to the output. "
   ]
  },
  {
   "cell_type": "code",
   "execution_count": null,
   "metadata": {},
   "outputs": [],
   "source": [
    "temperature = 25\n",
    "\n",
    "if temperature > 20:\n",
    "    print(\"Eat ice cream\")\n",
    "else: \n",
    "    print(\"Eat chocolate\")"
   ]
  }
 ],
 "metadata": {
  "kernelspec": {
   "display_name": "base",
   "language": "python",
   "name": "python3"
  },
  "language_info": {
   "codemirror_mode": {
    "name": "ipython",
    "version": 3
   },
   "file_extension": ".py",
   "mimetype": "text/x-python",
   "name": "python",
   "nbconvert_exporter": "python",
   "pygments_lexer": "ipython3",
   "version": "3.11.7"
  }
 },
 "nbformat": 4,
 "nbformat_minor": 2
}
