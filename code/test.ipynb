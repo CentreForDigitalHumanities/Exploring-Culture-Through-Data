{
 "cells": [
  {
   "cell_type": "code",
   "execution_count": null,
   "metadata": {},
   "outputs": [],
   "source": [
    "TF-IDF, which stands for Term Frequency-Inverse Document Frequency, is a statistical measure used in information retrieval and text mining to evaluate the importance of a word in a document relative to a collection of documents, known as a corpus. It combines two metrics: Term Frequency (TF) and Inverse Document Frequency (IDF).\n",
    "\n",
    "### Term Frequency (TF)\n",
    "TF measures how frequently a term appears in a document. It's a straightforward count of the number of times a word appears in a document, often normalized to account for the document's length.\n",
    "\n",
    "The term frequency \\( TF_{t,d} \\) of a term \\( t \\) in a document \\( d \\) can be calculated as:\n",
    "\n",
    "\\[ TF_{t,d} = \\frac{\\text{Number of times term } t \\text{ appears in document } d}{\\text{Total number of terms in document } d} \\]\n",
    "\n",
    "### Inverse Document Frequency (IDF)\n",
    "IDF measures the importance of a term within the entire corpus. It helps to adjust the frequency of terms by penalizing common words and highlighting rare ones. A high IDF score indicates that the term is rare across the corpus, and thus potentially more informative.\n",
    "\n",
    "The inverse document frequency \\( IDF_t \\) of a term \\( t \\) is calculated as:\n",
    "\n",
    "\\[ IDF_t = \\log \\left( \\frac{\\text{Total number of documents in the corpus}}{\\text{Number of documents containing the term } t} \\right) \\]\n",
    "\n",
    "### TF-IDF Calculation\n",
    "The TF-IDF score for a term in a document is the product of its TF and IDF scores:\n",
    "\n",
    "\\[ \\text{TF-IDF}_{t,d} = TF_{t,d} \\times IDF_t \\]\n",
    "\n",
    "This score reflects how important a word is to a specific document in a corpus, emphasizing terms that are frequent in a particular document but not in the entire corpus.\n",
    "\n",
    "### Applications\n",
    "TF-IDF is widely used in:\n",
    "- Information retrieval systems (like search engines) to rank documents by relevance.\n",
    "- Text mining and natural language processing (NLP) tasks for feature extraction.\n",
    "- Keyword extraction to identify significant terms in a document.\n",
    "\n",
    "It's a foundational technique that helps in understanding the significance of words in different contexts, aiding in various text analysis applications."
   ]
  }
 ],
 "metadata": {
  "language_info": {
   "name": "python"
  }
 },
 "nbformat": 4,
 "nbformat_minor": 2
}
