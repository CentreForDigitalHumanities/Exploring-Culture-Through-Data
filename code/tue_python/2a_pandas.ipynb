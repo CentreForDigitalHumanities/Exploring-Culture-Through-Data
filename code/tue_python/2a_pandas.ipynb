{
 "cells": [
  {
   "cell_type": "markdown",
   "metadata": {},
   "source": [
    "In this notebook, we will learn the basics of the `pandas` library. This is a powerful package that is often used to work with data in Python. It alllows you to inspect your data, perform manipulations, and create visualizations.\n",
    "\n",
    "We will cover the following topics:\n",
    "- File types \n",
    "- Reading data as a DataFrame\n",
    "- Basic operations on a DataFrame: \n",
    "    - Filtering data\n",
    "    - Grouping data\n",
    "    - Sorting data\n",
    "- Handling missing data\n",
    "- Writing data to a file \n"
   ]
  },
  {
   "cell_type": "markdown",
   "metadata": {},
   "source": [
    "Before we start loading the data, it's useful to know the basics about the most common file types that you will encounter when working with data. There's a lot of types out there, but the most common ones are: \n",
    "- CSV: Comma Separated Values\n",
    "- JSON: JavaScript Object Notation\n",
    "- XLS(X): Microsoft Excel file\n",
    "\n"
   ]
  }
 ],
 "metadata": {
  "language_info": {
   "name": "python"
  }
 },
 "nbformat": 4,
 "nbformat_minor": 2
}
