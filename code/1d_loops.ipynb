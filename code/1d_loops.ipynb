{
 "cells": [
  {
   "cell_type": "markdown",
   "metadata": {},
   "source": [
    "## Loops\n",
    "IN PROGRESS: hoeft nog niet nagekeken te worden\n",
    "\n",
    "\n",
    "The power of programming comes from the ability to repeat a task many times. This is done using loops. The most important loops in programming are the `for` loop and the `while` loop. In this notebook, we will discuss the `for` loop.\n",
    "\n",
    "The `for` loop is used to `iterate` (or loop) over a sequence (list, tuple, string) or other iterable objects. It is used when you know the number of times you want to repeat a task (for example, you want to print a message 10 times, or do a manipulation for all items in a list).\n",
    "\n",
    "Let's look at the most common use of a for loop: iterating over a list."
   ]
  },
  {
   "cell_type": "code",
   "execution_count": 2,
   "metadata": {},
   "outputs": [
    {
     "name": "stdout",
     "output_type": "stream",
     "text": [
      "Tokyo\n",
      "London\n",
      "Antananarivo\n"
     ]
    }
   ],
   "source": [
    "# Declare a list of strings\n",
    "capitals = [\"Tokyo\", \"London\", \"Antananarivo\"]\n",
    "\n",
    "# Iterate over the list. Note the indentation\n",
    "for capital in capitals:\n",
    "    print(capital)"
   ]
  },
  {
   "cell_type": "markdown",
   "metadata": {},
   "source": [
    "The `for` loop is often combined with an `if` statement to perform a certain task only when a condition is met. This is called a `nested loop`. See the example below."
   ]
  },
  {
   "cell_type": "code",
   "execution_count": 3,
   "metadata": {},
   "outputs": [
    {
     "name": "stdout",
     "output_type": "stream",
     "text": [
      "Antananarivo\n"
     ]
    }
   ],
   "source": [
    "for capital in capitals: \n",
    "    if len(capital) > 10: \n",
    "        print(capital)"
   ]
  },
  {
   "cell_type": "code",
   "execution_count": null,
   "metadata": {},
   "outputs": [],
   "source": []
  }
 ],
 "metadata": {
  "kernelspec": {
   "display_name": "Python 3",
   "language": "python",
   "name": "python3"
  },
  "language_info": {
   "codemirror_mode": {
    "name": "ipython",
    "version": 3
   },
   "file_extension": ".py",
   "mimetype": "text/x-python",
   "name": "python",
   "nbconvert_exporter": "python",
   "pygments_lexer": "ipython3",
   "version": "3.11.7"
  }
 },
 "nbformat": 4,
 "nbformat_minor": 2
}
