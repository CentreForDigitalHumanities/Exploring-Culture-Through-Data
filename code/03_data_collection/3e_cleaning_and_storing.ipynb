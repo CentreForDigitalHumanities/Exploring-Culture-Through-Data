{
 "cells": [
  {
   "cell_type": "markdown",
   "metadata": {},
   "source": [
    "#  Data Cleaning and Storage\n",
    "## Cleaning Collected Data\n",
    " - Identifying and handling missing data\n",
    " - Data transformation and normalization\n",
    "\n",
    "Use [https://centrefordigitalhumanities.github.io/det_cultural_data/parts/data_analysis/ch3_data_cleaning.html](https://centrefordigitalhumanities.github.io/det_cultural_data/parts/data_analysis/ch3_data_cleaning.html) as inspiration?\n",
    "\n",
    "## Storing Data\n",
    " - Saving to CSV, JSON, databases (e.g., SQLite, MongoDB)\n",
    " - Best practices for data storage\n",
    "    - [Data Storage Finder](https://tools.uu.nl/storagefinder/)"
   ]
  }
 ],
 "metadata": {
  "language_info": {
   "name": "python"
  }
 },
 "nbformat": 4,
 "nbformat_minor": 2
}
