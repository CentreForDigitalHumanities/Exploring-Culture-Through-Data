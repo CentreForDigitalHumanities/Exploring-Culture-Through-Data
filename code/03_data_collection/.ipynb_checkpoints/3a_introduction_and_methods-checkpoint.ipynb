{
 "cells": [
  {
   "cell_type": "markdown",
   "metadata": {},
   "source": [
    "# Introduction to Data Collection"
   ]
  },
  {
   "cell_type": "markdown",
   "metadata": {},
   "source": [
    "## What is Web Data Collection?\n",
    " - Definition and importance in data science\n",
    " - Applications and use cases (e.g., market research, sentiment analysis, competitor analysis)\n",
    "    1. Rich and Diverse Data: Access to varied data types from multiple domains.\n",
    "    2. Real-time Collection: Enables up-to-date data gathering for timely insights.\n",
    "    3. Large-scale Data: Facilitates working with big data, enhancing analysis robustness.\n",
    "    4. Competitor and Market Analysis: Provides insights for strategic business decisions.\n",
    "    5. Machine Learning Training: Supplies data for training models, especially in NLP and computer vision.\n",
    "    6. Personalization: Enhances targeted marketing through better understanding of customer preferences.\n",
    "    7. Trend Monitoring: Helps in tracking and analyzing trends for forecasting.\n",
    "    8. Academic and Research Applications: Supports studies in social behavior, public opinion, and more."
   ]
  },
  {
   "cell_type": "markdown",
   "metadata": {},
   "source": [
    "## Data Collection Methods\n",
    "### APIs (Application Programming Interfaces)\n",
    " - Understanding APIs\n",
    "\n",
    "### Benefits\n",
    "- \n",
    "\n",
    "### Limitations\n",
    " - Types of APIs (REST, SOAP, GraphQL)\n",
    "   - Hidden APIs\\\n",
    "\n",
    "https://inspectelement.org/apis.html"
   ]
  },
  {
   "cell_type": "markdown",
   "metadata": {},
   "source": [
    "## Web Scraping\n",
    " - Definition and use cases\n",
    " - Tools and libraries\n",
    "    - BeautifulSoup\n",
    "    - Scrapy\n",
    "    - Selenium"
   ]
  },
  {
   "cell_type": "markdown",
   "metadata": {},
   "source": [
    "## Legal and Ethical Considerations\n",
    " - Overview of scraping ethics\n",
    " - Respecting robots.txt, Terms of Service, Privacy statement, \n",
    " - Handling personal data and privacy concerns"
   ]
  },
  {
   "cell_type": "markdown",
   "metadata": {},
   "source": [
    "## Data Privacy @ UU \n",
    "[Data Privacy Handbook](https://utrechtuniversity.github.io/dataprivacyhandbook/)\n",
    "- [Definition of personal data](https://utrechtuniversity.github.io/dataprivacyhandbook/personal-data.html#definition-personal-data)\n",
    "- [Pseudonymisation & Anonymisation](https://utrechtuniversity.github.io/dataprivacyhandbook/pseudonymisation-anonymisation.html)\n",
    "- [Glossary](https://utrechtuniversity.github.io/dataprivacyhandbook/glossary.html)"
   ]
  }
 ],
 "metadata": {
  "language_info": {
   "name": "python"
  }
 },
 "nbformat": 4,
 "nbformat_minor": 2
}
