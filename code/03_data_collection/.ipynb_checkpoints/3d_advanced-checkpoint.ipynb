{
 "cells": [
  {
   "cell_type": "markdown",
   "id": "0cd57355-8887-4ea0-919a-d1cfad743461",
   "metadata": {},
   "source": [
    "# Advanced Web Scraping Techniques\n",
    "INSERT [Exercises](https://github.com/CentreForDigitalHumanities/workshop-web-scraping/tree/main/scrapethissite.com/exercises)\n",
    "\n",
    "## Handling Dynamic Content\n",
    " - Introduction to Selenium for web scraping\n",
    " - Automating web interactions\n",
    "\n",
    "## Scrapy Framework\n",
    " - Overview of Scrapy\n",
    " - Creating and running spiders\n",
    " - Extracting and storing data"
   ]
  }
 ],
 "metadata": {
  "kernelspec": {
   "display_name": "Python 3 (ipykernel)",
   "language": "python",
   "name": "python3"
  },
  "language_info": {
   "codemirror_mode": {
    "name": "ipython",
    "version": 3
   },
   "file_extension": ".py",
   "mimetype": "text/x-python",
   "name": "python",
   "nbconvert_exporter": "python",
   "pygments_lexer": "ipython3",
   "version": "3.12.4"
  }
 },
 "nbformat": 4,
 "nbformat_minor": 5
}
