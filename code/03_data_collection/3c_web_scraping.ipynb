{
 "cells": [
  {
   "cell_type": "markdown",
   "id": "d6c6b1a9-ea4f-4bbb-b44a-3122823401ab",
   "metadata": {},
   "source": [
    "# Web Scraping Fundamentals"
   ]
  },
  {
   "cell_type": "markdown",
   "id": "a5852f5e-ed9c-4c65-b621-c88b82d6e565",
   "metadata": {},
   "source": [
    "## Understanding HTML and the DOM\n",
    " - Basic HTML structure (tags, attributes)\n",
    " - The Document Object Model (DOM) and how browsers render HTML\n",
    "\n",
    "From the [FAQ](https://www.scrapethissite.com/faq/) of [Scrape This Site](https://www.scrapethissite.com)\n",
    "> Please feel free to write or use software in order to automatically pull, harvest, scrape, download or otherwise access any information on this site. \n",
    "\n",
    "\n",
    "## Introduction to BeautifulSoup\n",
    " - Parsing HTML with BeautifulSoup\n",
    " - Navigating and searching the parse tree (finding tags, attributes, text)"
   ]
  }
 ],
 "metadata": {
  "kernelspec": {
   "display_name": "Python 3 (ipykernel)",
   "language": "python",
   "name": "python3"
  },
  "language_info": {
   "codemirror_mode": {
    "name": "ipython",
    "version": 3
   },
   "file_extension": ".py",
   "mimetype": "text/x-python",
   "name": "python",
   "nbconvert_exporter": "python",
   "pygments_lexer": "ipython3",
   "version": "3.12.4"
  }
 },
 "nbformat": 4,
 "nbformat_minor": 5
}
