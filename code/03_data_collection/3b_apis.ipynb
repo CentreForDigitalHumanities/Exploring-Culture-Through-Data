{
 "cells": [
  {
   "cell_type": "markdown",
   "metadata": {},
   "source": [
    "# APIs"
   ]
  },
  {
   "cell_type": "markdown",
   "metadata": {},
   "source": [
    "## Finding and Accessing APIs\n",
    " - API directories and documentation (e.g., RapidAPI, API marketplaces)\n",
    " - Authentication (API keys, OAuth)\n"
   ]
  },
  {
   "cell_type": "markdown",
   "metadata": {},
   "source": [
    "## Making Requests\n",
    " - HTTP methods (GET, POST, PUT, DELETE)\n",
    "    - Using `httpx` instead of `requests`\n",
    " - Handling responses (JSON, XML)"
   ]
  },
  {
   "cell_type": "markdown",
   "metadata": {},
   "source": [
    "## Hands-on Activity: Collecting Data from a Public API\n",
    " - Step-by-step guide to accessing a sample API (e.g., OpenWeatherMap, Twitter)\n",
    " - Practical exercise"
   ]
  },
  {
   "cell_type": "markdown",
   "metadata": {},
   "source": [
    " ## Hidden APIs\n",
    " See:\n",
    "- https://scrapfly.io/blog/how-to-scrape-hidden-apis/\n",
    "- https://inspectelement.org/apis.html#undocumented-apis"
   ]
  }
 ],
 "metadata": {
  "language_info": {
   "name": "python"
  }
 },
 "nbformat": 4,
 "nbformat_minor": 2
}
