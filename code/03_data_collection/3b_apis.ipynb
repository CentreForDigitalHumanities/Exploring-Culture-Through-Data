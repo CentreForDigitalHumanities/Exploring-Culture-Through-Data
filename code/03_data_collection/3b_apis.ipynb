{
 "cells": [
  {
   "cell_type": "markdown",
   "metadata": {},
   "source": [
    "# APIs"
   ]
  },
  {
   "cell_type": "code",
   "execution_count": null,
   "metadata": {},
   "outputs": [],
   "source": []
  },
  {
   "cell_type": "markdown",
   "metadata": {},
   "source": [
    "## Finding and Accessing APIs\n",
    " - API directories and documentation (e.g., RapidAPI, API marketplaces)\n",
    " - Authentication (API keys, OAuth)\n"
   ]
  },
  {
   "cell_type": "markdown",
   "metadata": {},
   "source": [
    "## Making Requests\n",
    " - HTTP methods (GET, POST, PUT, DELETE)\n",
    "    - Using `httpx` instead of `requests`\n",
    " - Handling responses (JSON, XML)"
   ]
  },
  {
   "cell_type": "markdown",
   "metadata": {},
   "source": [
    "## Hands-on Activity: Collecting Data from a Public API\n",
    " - Step-by-step guide to accessing a sample API (e.g., OpenWeatherMap, Twitter)\n",
    " - Practical exercise"
   ]
  },
  {
   "cell_type": "markdown",
   "metadata": {},
   "source": [
    " ## Hidden APIs\n",
    " See:\n",
    "- https://scrapfly.io/blog/how-to-scrape-hidden-apis/\n",
    "- https://inspectelement.org/apis.html#undocumented-apis"
   ]
  }
 ],
 "metadata": {
  "kernelspec": {
   "display_name": "Python 3 (ipykernel)",
   "language": "python",
   "name": "python3"
  },
  "language_info": {
   "codemirror_mode": {
    "name": "ipython",
    "version": 3
   },
   "file_extension": ".py",
   "mimetype": "text/x-python",
   "name": "python",
   "nbconvert_exporter": "python",
   "pygments_lexer": "ipython3",
   "version": "3.12.4"
  }
 },
 "nbformat": 4,
 "nbformat_minor": 4
}
