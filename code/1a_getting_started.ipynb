{
 "cells": [
  {
   "cell_type": "markdown",
   "metadata": {},
   "source": [
    "## Part 1a: Getting started with Python"
   ]
  },
  {
   "cell_type": "markdown",
   "metadata": {},
   "source": [
    "Welcome to the first notebook of this course, in which you will take the first steps in learning Python. \n",
    "\n",
    "Python is a high-level programming language that is relatively easy to learn due to its intuitive syntax and extensive documentation. It allows you to communicate with computers, instructing them to perform specific tasks such as calculations, data analysis, and visualization.\n",
    "\n",
    "If you haven't installed Python yet, please do so following the installation guidelines [here](insert link). \n",
    "\n",
    "This first lesson is designed to help you get comfortable with the Jupyter Notebook environment, which is where you will be writing and running your Python code. The next lessons will cover the essential concepts of Python, such as variables, data types, and operators. See the [Glossary](insert link) for an overview of the terms you will learn along the way. \n",
    "\n",
    "\n",
    "Here's a few things to keep in mind when working through the materials: \n",
    "- Before running a cell, you can try to predict what the output will look like. \n",
    "- If you're feeling adventurous, try to modify the code and see what happens.\n",
    "- Errors are a natural part of programming. Don't worry if you encounter them, and try to understand what went wrong.\n",
    "- If you're stuck: use the internet! There are so many resources available to help you out. \n",
    "\n",
    "\n",
    "Let's get started!"
   ]
  },
  {
   "cell_type": "markdown",
   "metadata": {},
   "source": [
    "#### Execute Python code\n",
    "The document you're currently reading is a Jupyter Notebook. Jupyter Notebooks are interactive documents that allow you to write and execute code in individual cells. \n",
    "\n",
    "To execute a code cell, click on it and press `Shift + Enter`. Alternatively, you can click the `Run` button in the toolbar."
   ]
  },
  {
   "cell_type": "code",
   "execution_count": 22,
   "metadata": {},
   "outputs": [
    {
     "name": "stdout",
     "output_type": "stream",
     "text": [
      "Hallo, wereld\n"
     ]
    }
   ],
   "source": [
    "print(\"Hallo, wereld\")"
   ]
  },
  {
   "cell_type": "markdown",
   "metadata": {},
   "source": [
    "The `print()` function is used to display the output of a code cell. Although the print function is probably the most famous function in Python, it is not always necessary to use it in Jupyter Notebooks. The output of the last line of a code cell is automatically displayed. However, it is a good practice to use the `print()` function to display the output explicitly."
   ]
  },
  {
   "cell_type": "markdown",
   "metadata": {},
   "source": [
    "> Exercise 1.1: Change the text inside the parentheses and run the cell again."
   ]
  },
  {
   "cell_type": "markdown",
   "metadata": {},
   "source": [
    "> Exercuse 1.2: Try to cause an error. "
   ]
  },
  {
   "cell_type": "markdown",
   "metadata": {},
   "source": [
    "#### Comments"
   ]
  },
  {
   "cell_type": "markdown",
   "metadata": {},
   "source": [
    "You can write comments in Python using the `#` symbol. Comments are ignored by the Python interpreter and can be used to document your code. This is useful to help others (or your future self) to understand what your code does. "
   ]
  },
  {
   "cell_type": "code",
   "execution_count": 10,
   "metadata": {},
   "outputs": [
    {
     "name": "stdout",
     "output_type": "stream",
     "text": [
      "Hallo, wereld\n"
     ]
    }
   ],
   "source": [
    "# This is a comment\n",
    "# It will not be printed\n",
    "\n",
    "print(\"Hallo, wereld\") # This is a comment too"
   ]
  },
  {
   "cell_type": "markdown",
   "metadata": {},
   "source": [
    "#### Functions"
   ]
  },
  {
   "cell_type": "markdown",
   "metadata": {},
   "source": [
    "The `print` statement is only one example of a so-called `function` in Python. A function is a piece of code that performs a specific task, and can do so repeatedly.\n",
    "\n",
    "Python comes with a lot of built-in functions, and you can also create your own functions. Let's take a look at some of the basic functions in Python. \n",
    "\n",
    "> Exercise 1.3: Run the cells below and try to figure out what the functions do. "
   ]
  },
  {
   "cell_type": "code",
   "execution_count": 20,
   "metadata": {},
   "outputs": [],
   "source": [
    "# This cell does not contain a function\n",
    "# Instead, it contains a variable assignment (more on that later)\n",
    "some_numbers = [6, 5, 4]"
   ]
  },
  {
   "cell_type": "code",
   "execution_count": 17,
   "metadata": {},
   "outputs": [
    {
     "data": {
      "text/plain": [
       "15"
      ]
     },
     "execution_count": 17,
     "metadata": {},
     "output_type": "execute_result"
    }
   ],
   "source": [
    "sum(some_numbers)"
   ]
  },
  {
   "cell_type": "code",
   "execution_count": 18,
   "metadata": {},
   "outputs": [
    {
     "data": {
      "text/plain": [
       "[4, 5, 6]"
      ]
     },
     "execution_count": 18,
     "metadata": {},
     "output_type": "execute_result"
    }
   ],
   "source": [
    "sorted(some_numbers)"
   ]
  },
  {
   "cell_type": "code",
   "execution_count": 19,
   "metadata": {},
   "outputs": [
    {
     "data": {
      "text/plain": [
       "3"
      ]
     },
     "execution_count": 19,
     "metadata": {},
     "output_type": "execute_result"
    }
   ],
   "source": [
    "len(some_numbers)"
   ]
  },
  {
   "cell_type": "markdown",
   "metadata": {},
   "source": [
    "Hopefully, you feel comfortable with running code in Jupyter Notebooks, and have some understanding of functions in Python. If their workings are still a bit unclear, don't worry. We will cover the essential concepts of Python in the next Notebooks."
   ]
  }
 ],
 "metadata": {
  "kernelspec": {
   "display_name": "Python 3",
   "language": "python",
   "name": "python3"
  },
  "language_info": {
   "codemirror_mode": {
    "name": "ipython",
    "version": 3
   },
   "file_extension": ".py",
   "mimetype": "text/x-python",
   "name": "python",
   "nbconvert_exporter": "python",
   "pygments_lexer": "ipython3",
   "version": "3.9.13"
  }
 },
 "nbformat": 4,
 "nbformat_minor": 2
}
