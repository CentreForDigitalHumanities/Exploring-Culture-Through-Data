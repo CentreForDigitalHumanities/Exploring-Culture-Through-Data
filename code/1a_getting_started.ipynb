{
 "cells": [
  {
   "cell_type": "markdown",
   "metadata": {},
   "source": [
    "## Part 1a: Getting started with Python"
   ]
  },
  {
   "cell_type": "markdown",
   "metadata": {},
   "source": [
    "Welcome to the first notebook of this course, in which you will take the first steps in learning Python. \n",
    "\n",
    "Python is a high-level programming language that is relatively easy to learn due to its intuitive syntax and extensive documentation. It allows you to communicate with computers, instructing them to perform specific tasks. \n",
    "\n",
    "If you haven't installed Python yet, please do so following the instruction guidelines [here](insert link). \n",
    "\n",
    "This first lesson will cover the essential concepts of Python, such as variables, data types, and operators. See the [Glossary](insert link) for an overview of the terms you will learn along the way. \n",
    "\n",
    "Let's get started!"
   ]
  },
  {
   "cell_type": "markdown",
   "metadata": {},
   "source": [
    "#### Execute Python code\n",
    "Notebooks allow you to run pieces of code individually. To execute a code cell, click on it and press `Shift + Enter`. Alternatively, you can click the `Run` button in the toolbar."
   ]
  },
  {
   "cell_type": "code",
   "execution_count": 2,
   "metadata": {},
   "outputs": [
    {
     "name": "stdout",
     "output_type": "stream",
     "text": [
      "Hallo, wereld\n"
     ]
    }
   ],
   "source": [
    "print(\"Hallo, wereld\")"
   ]
  },
  {
   "cell_type": "markdown",
   "metadata": {},
   "source": [
    "The `print()` function is used to display the output of a code cell. "
   ]
  },
  {
   "cell_type": "markdown",
   "metadata": {},
   "source": [
    "##### Exercise 1.1: Change the text inside the parentheses and run the cell again."
   ]
  },
  {
   "cell_type": "markdown",
   "metadata": {},
   "source": [
    "#### Comments"
   ]
  },
  {
   "cell_type": "markdown",
   "metadata": {},
   "source": [
    "You can write comments in Python using the `#` symbol. Comments are ignored by the Python interpreter and are used to document your code. "
   ]
  },
  {
   "cell_type": "code",
   "execution_count": 10,
   "metadata": {},
   "outputs": [
    {
     "name": "stdout",
     "output_type": "stream",
     "text": [
      "Hallo, wereld\n"
     ]
    }
   ],
   "source": [
    "# This is a comment\n",
    "# It will not be printed\n",
    "\n",
    "print(\"Hallo, wereld\") # This is a comment too"
   ]
  },
  {
   "cell_type": "markdown",
   "metadata": {},
   "source": [
    "##### Exercise 1.2: Try to predict the output of the cells below before running them. "
   ]
  },
  {
   "cell_type": "code",
   "execution_count": 9,
   "metadata": {},
   "outputs": [
    {
     "name": "stdout",
     "output_type": "stream",
     "text": [
      "TBA\n"
     ]
    }
   ],
   "source": [
    "print(\"TBA\")"
   ]
  },
  {
   "cell_type": "code",
   "execution_count": null,
   "metadata": {},
   "outputs": [],
   "source": []
  },
  {
   "cell_type": "code",
   "execution_count": null,
   "metadata": {},
   "outputs": [],
   "source": []
  }
 ],
 "metadata": {
  "kernelspec": {
   "display_name": "Python 3",
   "language": "python",
   "name": "python3"
  },
  "language_info": {
   "codemirror_mode": {
    "name": "ipython",
    "version": 3
   },
   "file_extension": ".py",
   "mimetype": "text/x-python",
   "name": "python",
   "nbconvert_exporter": "python",
   "pygments_lexer": "ipython3",
   "version": "3.9.13"
  }
 },
 "nbformat": 4,
 "nbformat_minor": 2
}
