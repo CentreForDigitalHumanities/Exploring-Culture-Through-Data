{
 "cells": [
  {
   "cell_type": "markdown",
   "metadata": {},
   "source": [
    "# Python crash-course"
   ]
  },
  {
   "cell_type": "markdown",
   "metadata": {},
   "source": [
    "_____\n",
    "\n",
    "Welcome to the crash-course in Python as part of the Summer School \"Exploring Culture Through Data\". Today, you will learn the basic of the popular programming language Python, as well as ways to keep learning afterwards. \n",
    "\n",
    "_______\n",
    "\n",
    "Here's the outline of today's learning goals: \n",
    "- Getting started \n",
    "    - What is Python? \n",
    "    - Executing code \n",
    "- Values and expressions \n",
    "    - Basic data types: strings, integers, floats, booleans\n",
    "    - Variables \n",
    "- Containers \n",
    "    - Lists\n",
    "    - Tuples\n",
    "    - Dictionaries \n",
    "- Loops\n",
    "- Functions\n",
    "\n",
    "___________\n",
    "\n",
    "- Working with a dataset\n",
    "    - Pandas: reading and exploring your data\n",
    "    - Basic manipulations: changing column names, removing missing data\n",
    "- Analysis\n",
    "    - Basic stats \n",
    "        - Counts of column values \n",
    "        - Visualization \n",
    "    - Word clouds \n",
    "        - Tokenization \n",
    "        - Stop word filtering \n",
    "        - Visualization\n",
    "    - Word representation\n",
    "        - Bag of Words\n",
    "        - Word embeddings \n",
    "    - Topic modeling\n",
    "______\n",
    "\n",
    "Topics for toy examples: \n",
    "- Social media comments analysis to understand public discourse \n",
    "- \n",
    "\n"
   ]
  },
  {
   "cell_type": "markdown",
   "metadata": {},
   "source": []
  },
  {
   "cell_type": "code",
   "execution_count": null,
   "metadata": {},
   "outputs": [],
   "source": []
  }
 ],
 "metadata": {
  "kernelspec": {
   "display_name": "Python 3",
   "language": "python",
   "name": "python3"
  },
  "language_info": {
   "codemirror_mode": {
    "name": "ipython",
    "version": 3
   },
   "file_extension": ".py",
   "mimetype": "text/x-python",
   "name": "python",
   "nbconvert_exporter": "python",
   "pygments_lexer": "ipython3",
   "version": "3.11.7"
  }
 },
 "nbformat": 4,
 "nbformat_minor": 2
}
