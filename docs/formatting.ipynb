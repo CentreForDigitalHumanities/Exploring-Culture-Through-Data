{
 "cells": [
  {
   "cell_type": "markdown",
   "id": "abf9f7a4-e4a2-4833-8cc8-7cdb474b0460",
   "metadata": {},
   "source": [
    "# Formatting\n",
    "\n",
    "A logical naming scheme for code in a GitHub repository should aim to be consistent, descriptive, and organized. \n",
    "\n",
    "## 1. Prefix\n",
    "Start each repository name with a prefix or namespace that identifies the team or department that owns or primarily works on the repository. For example:\n",
    "   - `team-a-project`\n",
    "   - `team-b-backend`\n",
    "   - `marketing-website`\n",
    "\n",
    "## 2. Use of hyphens \n",
    "Separate words in repository names with hyphens or underscores for readability. GitHub allows both, but hyphens (`-`) are more common and preferred in repository names.\n",
    "\n",
    "## 3. Descriptive names\n",
    "Use descriptive names that reflect the purpose or functionality of the repository. This helps team members and others in the organization quickly understand what the repository is for. For example:\n",
    "  - `android-app`\n",
    "  - `customer-database`\n",
    "  - `devops-scripts`\n",
    "\n",
    "## 4. Avoid abbreviations unless standardized\n",
    "Abbreviations can be confusing unless they are well-known within the organization. It's generally better to use full words unless there is a widely accepted abbreviation. For instance:\n",
    "   - `web-application` is clearer than `web-app`\n",
    "   - `user-interface` is clearer than `ui`"
   ]
  },
  {
   "cell_type": "markdown",
   "id": "fb7d26aa-89f3-451d-9987-91d281ac7a7d",
   "metadata": {},
   "source": [
    "## Folder\n",
    "### Structure\n",
    ".\n",
    "/code/\n",
    "/data/\n",
    "/docs/\n",
    "/img/\n",
    "### Names"
   ]
  },
  {
   "cell_type": "markdown",
   "id": "269eafd3",
   "metadata": {},
   "source": []
  },
  {
   "cell_type": "markdown",
   "id": "7ae255f7",
   "metadata": {},
   "source": [
    "## Files\n",
    "### Structure\n",
    "- See [Table of Contents](docs/table-of-contents.ipynb)\n",
    "### Names\n",
    "- Lowercase\n",
    "- Hyphens"
   ]
  }
 ],
 "metadata": {
  "kernelspec": {
   "display_name": "Python 3 (ipykernel)",
   "language": "python",
   "name": "python3"
  },
  "language_info": {
   "codemirror_mode": {
    "name": "ipython",
    "version": 3
   },
   "file_extension": ".py",
   "mimetype": "text/x-python",
   "name": "python",
   "nbconvert_exporter": "python",
   "pygments_lexer": "ipython3",
   "version": "3.12.4"
  }
 },
 "nbformat": 4,
 "nbformat_minor": 5
}
