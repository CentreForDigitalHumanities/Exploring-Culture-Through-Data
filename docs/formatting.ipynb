{
 "cells": [
  {
   "cell_type": "markdown",
   "id": "abf9f7a4-e4a2-4833-8cc8-7cdb474b0460",
   "metadata": {},
   "source": [
    "# Formatting"
   ]
  },
  {
   "cell_type": "markdown",
   "id": "74f2be45-60e9-4c77-aa27-f4abd3617f46",
   "metadata": {},
   "source": [
    "> [!NOTE]  \n",
    "> Highlights information that users should take into account, even when skimming.\n",
    "\n",
    "> [!TIP]\n",
    "> Optional information to help a user be more successful.\n",
    "\n",
    "> [!IMPORTANT]  \n",
    "> Crucial information necessary for users to succeed.\n",
    "\n",
    "> [!WARNING]  \n",
    "> Critical content demanding immediate user attention due to potential risks.\n",
    "\n",
    "> [!CAUTION]\n",
    "> Negative potential consequences of an action."
   ]
  }
 ],
 "metadata": {
  "kernelspec": {
   "display_name": "Python 3 (ipykernel)",
   "language": "python",
   "name": "python3"
  },
  "language_info": {
   "codemirror_mode": {
    "name": "ipython",
    "version": 3
   },
   "file_extension": ".py",
   "mimetype": "text/x-python",
   "name": "python",
   "nbconvert_exporter": "python",
   "pygments_lexer": "ipython3",
   "version": "3.12.4"
  }
 },
 "nbformat": 4,
 "nbformat_minor": 5
}
