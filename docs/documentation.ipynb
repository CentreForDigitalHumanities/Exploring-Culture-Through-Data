{
 "cells": [
  {
   "cell_type": "markdown",
   "id": "2f8e71f8-f325-4e02-b0fa-19bc93945644",
   "metadata": {},
   "source": [
    "# Documentation"
   ]
  },
  {
   "cell_type": "markdown",
   "id": "f4c82ef3-8337-4a42-8b34-3718383916f5",
   "metadata": {},
   "source": [
    "## Anaconda\n",
    "- [Documentation](https://docs.anaconda.com/)\n",
    "    - [Navigator](https://docs.anaconda.com/navigator/)\n",
    "    - [Free Learning](https://freelearning.anaconda.cloud/)"
   ]
  },
  {
   "cell_type": "markdown",
   "id": "61ea30d1",
   "metadata": {},
   "source": [
    "## Jupyter\n",
    "[Documentation](https://docs.jupyter.org/en/latest/)\n",
    "- [Glossary](https://docs.jupyter.org/en/latest/glossary.html)"
   ]
  },
  {
   "cell_type": "markdown",
   "id": "446ffcf7",
   "metadata": {},
   "source": [
    "## Python\n",
    "- [Documentation](https://docs.python.org/3/)\n",
    "    - [Glossary](https://docs.python.org/3/glossary.html)\n",
    "    - [pandas](https://pandas.pydata.org/); a fast, powerful, flexible and easy to use open source data analysis and manipulation tool.\n",
    "    - [Plotly](https://plotly.com/python/)\n",
    "    - [seaborn](https://seaborn.pydata.org/); a data visualization library based on [matplotlib](https://matplotlib.org/)."
   ]
  },
  {
   "cell_type": "markdown",
   "id": "b920347f",
   "metadata": {},
   "source": [
    "## Recommended materials\n",
    "\n",
    "Work in progress"
   ]
  },
  {
   "cell_type": "markdown",
   "id": "d34c7609",
   "metadata": {},
   "source": [
    "## Inspiration\n",
    "\n",
    "In developing the materials for the Summer School Exploring Culture through Data, inspiration was drawn from the [Educational materials](https://github.com/CentreForDigitalHumanities/Education) by the [Centre for Digital Humanities](https://cdh.uu.nl/), as well as from:\n",
    "\n",
    "| Name | Description |\n",
    "| --- | --- |\n",
    "| [Practicum Dennis Nguyen](https://solisservices.sharepoint.com/:f:/r/sites/DataSummerSchool2024-Organisatie/Shared%20Documents/Organisatie/Dennis%20practicum?csf=1&web=1&e=HxsDhg) | ??? | \n",
    "| [Gephi](https://github.com/CentreForDigitalHumanities/Gephi/) | Introductory course on network visualization for Humanities. |\n",
    "| [Programming in Python](https://github.com/UUDigitalHumanitieslab/programming-in-python) | Entry level course on the basics of the Python programming language. Special attention is given to best practices in coding, e.g.: writing clean code and documentation. |\n",
    "| [R for Humanities](https://github.com/CentreForDigitalHumanities/workshop-r-for-humanities) | Basics in R syntax, to data handling and visualisation using a set of tools known as the ‘tidyverse’ | \n",
    "| [Data exploration toolkit for cultural data](https://github.com/CentreForDigitalHumanities/det_cultural_data) | Structure, clean, visualize, and run a preliminary analysis. See https://centrefordigitalhumanities.github.io/det_cultural_data/ for [Quarto](https://quarto.org/) example. |\n",
    "| [Web scraping](https://github.com/CentreForDigitalHumanities/workshop-web-scraping) | Introduction into web scraping with Python, with the use of Replit. |\n",
    "| [Visual compiler](https://pythontutor.com/python-compiler.html#mode=edit) | Online Python compiler with step-by-step visualisation of the code. Useful when learning to understand code. |\n",
    "| [FAIR Cheatsheets](https://github.com/UtrechtUniversity/FAIR-Cheatsheets) | |\n",
    "| [Summer School 2020 - Python tutorial](https://gitlab.com/utrecht-data-school/education/summer-school/python-tutorial/) | |  \n"
   ]
  },
  {
   "cell_type": "markdown",
   "id": "5cb211f7",
   "metadata": {},
   "source": []
  }
 ],
 "metadata": {
  "kernelspec": {
   "display_name": "Python 3 (ipykernel)",
   "language": "python",
   "name": "python3"
  },
  "language_info": {
   "codemirror_mode": {
    "name": "ipython",
    "version": 3
   },
   "file_extension": ".py",
   "mimetype": "text/x-python",
   "name": "python",
   "nbconvert_exporter": "python",
   "pygments_lexer": "ipython3",
   "version": "3.12.4"
  }
 },
 "nbformat": 4,
 "nbformat_minor": 5
}
