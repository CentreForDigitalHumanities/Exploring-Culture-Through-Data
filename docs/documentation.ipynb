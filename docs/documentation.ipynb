{
 "cells": [
  {
   "cell_type": "markdown",
   "metadata": {},
   "source": [
    "# Documentation\n",
    "\n",
    "## Programming in Python\n",
    "For proper understanding of the use of the Jupyter Notebooks in the `code` folder and programming in Python, it is useful to distinguish different components involved. Below is a brief explanation, followed by links to documentation on the various components.\n",
    "\n",
    "**Anaconda** serves as a comprehensive package that includes **Python** (the core language), **Jupyter** (for interactive notebooks), and **IPython** (as the underlying interactive shell in Jupyter), along with other tools and libraries.\n",
    "\n",
    "```plaintext\n",
    "                        Anaconda\n",
    "              (Includes Python, Jupyter, IPython, and more)\n",
    "\n",
    "                           |\n",
    "           +---------------+---------------+\n",
    "           |                               |\n",
    "         Python                      Jupyter (Notebook)\n",
    "           |                               |\n",
    "      (IPython Shell)                 (Based on IPython)\n",
    "```\n",
    "\n",
    "### Anaconda\n",
    "Anaconda is a distribution of the Python and R programming languages for scientific computing (data science, machine learning applications, large-scale data processing, predictive analytics, etc.), that aims to simplify package management and deployment. [^1] It includes Python, Jupyter, and many data science packages, along with the Conda package manager for easy environment management.\n",
    "- [Documentation](https://docs.anaconda.com/)\n",
    "- [Navigator](https://docs.anaconda.com/navigator/)\n",
    "- [Free Learning](https://freelearning.anaconda.cloud/)\n",
    "\n",
    "### IPython\n",
    "An interactive shell that enhances the default Python experience with additional features.\n",
    "- [Documentation](https://ipython.readthedocs.io/en/stable/index.html)\n",
    "- [Magics](https://ipython.readthedocs.io/en/stable/interactive/magics.html)\n",
    "\n",
    "### Jupyter\n",
    "A web-based interface for creating and sharing documents that combine live code, equations, and text, based on IPython.\n",
    "- [Documentation](https://docs.jupyter.org/en/latest/)\n",
    "- [Glossary](https://docs.jupyter.org/en/latest/glossary.html)\n",
    "\n",
    "### Python\n",
    "A versatile, high-level programming language used in various fields including data science.\n",
    "- [Documentation](https://docs.python.org/3/)\n",
    "- [Glossary](https://docs.python.org/3/glossary.html)\n",
    "- [pandas](https://pandas.pydata.org/); a powerful Python library for data manipulation and analysis, offering data structures like DataFrames to handle structured data easily.\n",
    "- [Plotly](https://plotly.com/python/); an interactive visualization library in Python that allows for the creation of complex plots and charts, including 3D plots and maps, with a focus on interactivity.\n",
    "- [seaborn](https://seaborn.pydata.org/); a Python visualization library built on top of [Matplotlib](https://matplotlib.org/), designed for creating informative and attractive statistical graphics with minimal code.\n",
    "\n",
    "[1] https://en.wikipedia.org/wiki/Anaconda_(Python_distribution)"
   ]
  }
 ],
 "metadata": {
  "language_info": {
   "name": "python"
  }
 },
 "nbformat": 4,
 "nbformat_minor": 2
}
