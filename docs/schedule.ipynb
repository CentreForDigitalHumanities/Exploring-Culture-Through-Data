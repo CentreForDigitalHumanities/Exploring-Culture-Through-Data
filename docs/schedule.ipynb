{
 "cells": [
  {
   "cell_type": "code",
   "execution_count": 77,
   "id": "8ef2ba7c-6ed8-4680-a3b1-effac4d087bb",
   "metadata": {},
   "outputs": [
    {
     "data": {
      "application/vnd.plotly.v1+json": {
       "config": {
        "plotlyServerURL": "https://plot.ly"
       },
       "data": [
        {
         "base": 9,
         "hoverinfo": "none",
         "marker": {
          "color": "#ffd966",
          "line": {
           "color": "black",
           "width": 1
          }
         },
         "name": "Data School",
         "orientation": "v",
         "showlegend": true,
         "text": "<b>Introduction by the team</b><br><i>Data School</i><br><a href='docs/slides/01a-introduction.pdf' target='_blank'>Slides</a>",
         "textfont": {
          "color": "black",
          "size": 12
         },
         "textposition": "inside",
         "type": "bar",
         "width": 1,
         "x": [
          0
         ],
         "y": [
          1
         ]
        },
        {
         "base": 10,
         "hoverinfo": "none",
         "marker": {
          "color": "#f4b084",
          "line": {
           "color": "black",
           "width": 1
          }
         },
         "name": "Guest lecture",
         "orientation": "v",
         "showlegend": true,
         "text": "<b>Thinking in Data</b><br><a href='https://www.uu.nl/staff/DNguyen1' target='_blank'>Dennis Nguyen</a><br><i>Data School</i><br><a href='docs/slides/dennis-nguyen-thinking-in-data.pdf' target='_blank'>Slides</a>",
         "textfont": {
          "color": "black",
          "size": 12
         },
         "textposition": "inside",
         "type": "bar",
         "width": 1,
         "x": [
          0
         ],
         "y": [
          2
         ]
        },
        {
         "base": 12,
         "hoverinfo": "none",
         "marker": {
          "color": "#c6e0b4",
          "line": {
           "color": "black",
           "width": 1
          }
         },
         "name": "Break",
         "orientation": "v",
         "showlegend": true,
         "text": "<b>Lunch break</b><br><i>Data School</i>",
         "textfont": {
          "color": "black",
          "size": 12
         },
         "textposition": "inside",
         "type": "bar",
         "width": 1,
         "x": [
          0
         ],
         "y": [
          1
         ]
        },
        {
         "base": 13,
         "hoverinfo": "none",
         "marker": {
          "color": "#ffd966",
          "line": {
           "color": "black",
           "width": 1
          }
         },
         "name": "Data School",
         "orientation": "v",
         "showlegend": false,
         "text": "<b>Introduction round<br> &<br> Course overview</b><br><i>Digital Humanities Workspace</i><br><a href='docs/slides/01b-course-overview.pdf' target='_blank'>Slides</a>",
         "textfont": {
          "color": "black",
          "size": 12
         },
         "textposition": "inside",
         "type": "bar",
         "width": 1,
         "x": [
          0
         ],
         "y": [
          1.5
         ]
        },
        {
         "base": 14.5,
         "hoverinfo": "none",
         "marker": {
          "color": "#c6e0b4",
          "line": {
           "color": "black",
           "width": 1
          }
         },
         "name": "Break",
         "orientation": "v",
         "showlegend": false,
         "text": "<b>Break</b>",
         "textfont": {
          "color": "black",
          "size": 12
         },
         "textposition": "inside",
         "type": "bar",
         "width": 1,
         "x": [
          0
         ],
         "y": [
          0.5
         ]
        },
        {
         "base": 15,
         "hoverinfo": "none",
         "marker": {
          "color": "#548235",
          "line": {
           "color": "black",
           "width": 1
          }
         },
         "name": "Group assignment",
         "orientation": "v",
         "showlegend": true,
         "text": "<b>Group assignment</b><br><i>Digital Humanities Workspace</i>",
         "textfont": {
          "color": "white",
          "size": 12
         },
         "textposition": "inside",
         "type": "bar",
         "width": 1,
         "x": [
          0
         ],
         "y": [
          1.5
         ]
        },
        {
         "base": 9,
         "hoverinfo": "none",
         "marker": {
          "color": "#ffd966",
          "line": {
           "color": "black",
           "width": 1
          }
         },
         "name": "Data School",
         "orientation": "v",
         "showlegend": false,
         "text": "<b>Basics of Programming (1/2)</b><br><i>Digital Humanities Workspace</i><br><a href='docs/slides/02-basics-of-programming.pdf' target='_blank'>Slides</a> | <a href='code/02_basics_of_programming' target='_blank'>Notebooks</a>",
         "textfont": {
          "color": "black",
          "size": 12
         },
         "textposition": "inside",
         "type": "bar",
         "width": 1,
         "x": [
          1
         ],
         "y": [
          3
         ]
        },
        {
         "base": 12,
         "hoverinfo": "none",
         "marker": {
          "color": "#c6e0b4",
          "line": {
           "color": "black",
           "width": 1
          }
         },
         "name": "Break",
         "orientation": "v",
         "showlegend": false,
         "text": "<b>Lunch break</b><br><i>Data School</i>",
         "textfont": {
          "color": "black",
          "size": 12
         },
         "textposition": "inside",
         "type": "bar",
         "width": 1,
         "x": [
          1
         ],
         "y": [
          1
         ]
        },
        {
         "base": 13,
         "hoverinfo": "none",
         "marker": {
          "color": "#f4b084",
          "line": {
           "color": "black",
           "width": 1
          }
         },
         "name": "Guest lecture",
         "orientation": "v",
         "showlegend": false,
         "text": "<b>Data Journalism</b><br><a href='https://www.haykranen.nl/' target='_blank'>Hay Kranen</a><br><i>Digital Humanities Workspace</i><br><a href='docs/slides/hay-kranen-data-journalism.pdf' target='_blank'>Slides</a>",
         "textfont": {
          "color": "black",
          "size": 12
         },
         "textposition": "inside",
         "type": "bar",
         "width": 1,
         "x": [
          1
         ],
         "y": [
          1.5
         ]
        },
        {
         "base": 14.5,
         "hoverinfo": "none",
         "marker": {
          "color": "#c6e0b4",
          "line": {
           "color": "black",
           "width": 1
          }
         },
         "name": "Break",
         "orientation": "v",
         "showlegend": false,
         "text": "<b>Break</b>",
         "textfont": {
          "color": "black",
          "size": 12
         },
         "textposition": "inside",
         "type": "bar",
         "width": 1,
         "x": [
          1
         ],
         "y": [
          0.5
         ]
        },
        {
         "base": 15,
         "hoverinfo": "none",
         "marker": {
          "color": "#ffd966",
          "line": {
           "color": "black",
           "width": 1
          }
         },
         "name": "Data School",
         "orientation": "v",
         "showlegend": false,
         "text": "<b>Basics of Programming (2/2)</b><br><i>Digital Humanities Workspace</i><br><a href='docs/slides/02-basics-of-programming.pdf' target='_blank'>Slides</a> | <a href='code/02_basics_of_programming' target='_blank'>Notebooks</a>",
         "textfont": {
          "color": "black",
          "size": 12
         },
         "textposition": "inside",
         "type": "bar",
         "width": 1,
         "x": [
          1
         ],
         "y": [
          2
         ]
        },
        {
         "base": 17.5,
         "hoverinfo": "none",
         "marker": {
          "color": "#8ea9db",
          "line": {
           "color": "black",
           "width": 1
          }
         },
         "name": "Drinks",
         "orientation": "v",
         "showlegend": true,
         "text": "<b>Drinks</b><br><i>Café de Bastaard</i>",
         "textfont": {
          "color": "black",
          "size": 12
         },
         "textposition": "inside",
         "type": "bar",
         "width": 1,
         "x": [
          1
         ],
         "y": [
          0.5
         ]
        },
        {
         "base": 9,
         "hoverinfo": "none",
         "marker": {
          "color": "#ffd966",
          "line": {
           "color": "black",
           "width": 1
          }
         },
         "name": "Data School",
         "orientation": "v",
         "showlegend": false,
         "text": "<b>Data collection (1/2)</b><br><i>Digital Humanities Workspace</i><br><a href='docs/slides/03-data-collection.pdf' target='_blank'>Slides</a>",
         "textfont": {
          "color": "black",
          "size": 12
         },
         "textposition": "inside",
         "type": "bar",
         "width": 1,
         "x": [
          2
         ],
         "y": [
          2.5
         ]
        },
        {
         "base": 11.5,
         "hoverinfo": "none",
         "marker": {
          "color": "#c6e0b4",
          "line": {
           "color": "black",
           "width": 1
          }
         },
         "name": "Break",
         "orientation": "v",
         "showlegend": false,
         "text": "<b>Lunch break</b><br><i>Data School</i>",
         "textfont": {
          "color": "black",
          "size": 12
         },
         "textposition": "inside",
         "type": "bar",
         "width": 1,
         "x": [
          2
         ],
         "y": [
          1
         ]
        },
        {
         "base": 12.5,
         "hoverinfo": "none",
         "marker": {
          "color": "#f4b084",
          "line": {
           "color": "black",
           "width": 1
          }
         },
         "name": "Guest lecture",
         "orientation": "v",
         "showlegend": false,
         "text": "<b>Data Ethics</b><br><a href='https://www.uu.nl/staff/JStraatman' target='_blank'>Julia Straatman</a><br><i>Digital Humanities Workspace</i><br><a href='docs/slides/julia-straatman-deda-data-ethics-decision-aid.pdf' target='_blank'>Slides</a>",
         "textfont": {
          "color": "black",
          "size": 12
         },
         "textposition": "inside",
         "type": "bar",
         "width": 1,
         "x": [
          2
         ],
         "y": [
          2
         ]
        },
        {
         "base": 14.5,
         "hoverinfo": "none",
         "marker": {
          "color": "#c6e0b4",
          "line": {
           "color": "black",
           "width": 1
          }
         },
         "name": "Break",
         "orientation": "v",
         "showlegend": false,
         "text": "<b>Break</b>",
         "textfont": {
          "color": "black",
          "size": 12
         },
         "textposition": "inside",
         "type": "bar",
         "width": 1,
         "x": [
          2
         ],
         "y": [
          0.5
         ]
        },
        {
         "base": 15,
         "hoverinfo": "none",
         "marker": {
          "color": "#ffd966",
          "line": {
           "color": "black",
           "width": 1
          }
         },
         "name": "Data School",
         "orientation": "v",
         "showlegend": false,
         "text": "<b>Data collection (2/2)</b><br><i>Digital Humanities Workspace</i><br><a href='docs/slides/03-data-collection.pdf' target='_blank'>Slides</a>",
         "textfont": {
          "color": "black",
          "size": 12
         },
         "textposition": "inside",
         "type": "bar",
         "width": 1,
         "x": [
          2
         ],
         "y": [
          2
         ]
        },
        {
         "base": 9,
         "hoverinfo": "none",
         "marker": {
          "color": "#ffd966",
          "line": {
           "color": "black",
           "width": 1
          }
         },
         "name": "Data School",
         "orientation": "v",
         "showlegend": false,
         "text": "<b>Text analysis</b><br><i>Digital Humanities Workspace</i><br><a href='code/03_text_analysis' target='_blank'>Notebooks</a>",
         "textfont": {
          "color": "black",
          "size": 12
         },
         "textposition": "inside",
         "type": "bar",
         "width": 1,
         "x": [
          3
         ],
         "y": [
          3
         ]
        },
        {
         "base": 12,
         "hoverinfo": "none",
         "marker": {
          "color": "#c6e0b4",
          "line": {
           "color": "black",
           "width": 1
          }
         },
         "name": "Break",
         "orientation": "v",
         "showlegend": false,
         "text": "<b>Lunch break</b><br><i>Data School</i>",
         "textfont": {
          "color": "black",
          "size": 12
         },
         "textposition": "inside",
         "type": "bar",
         "width": 1,
         "x": [
          3
         ],
         "y": [
          1
         ]
        },
        {
         "base": 13,
         "hoverinfo": "none",
         "marker": {
          "color": "#ffd966",
          "line": {
           "color": "black",
           "width": 1
          }
         },
         "name": "Data School",
         "orientation": "v",
         "showlegend": false,
         "text": "<b>Data visualization</b><br><i>Digital Humanities Workspace</i><br><a href='code/04_data_visualization' target='_blank'>Notebooks</a>",
         "textfont": {
          "color": "black",
          "size": 12
         },
         "textposition": "inside",
         "type": "bar",
         "width": 1,
         "x": [
          3
         ],
         "y": [
          2
         ]
        },
        {
         "base": 15,
         "hoverinfo": "none",
         "marker": {
          "color": "#c6e0b4",
          "line": {
           "color": "black",
           "width": 1
          }
         },
         "name": "Break",
         "orientation": "v",
         "showlegend": false,
         "text": "<b>Break</b>",
         "textfont": {
          "color": "black",
          "size": 12
         },
         "textposition": "inside",
         "type": "bar",
         "width": 1,
         "x": [
          3
         ],
         "y": [
          0.5
         ]
        },
        {
         "base": 15.5,
         "hoverinfo": "none",
         "marker": {
          "color": "#548235",
          "line": {
           "color": "black",
           "width": 1
          }
         },
         "name": "Group assignment",
         "orientation": "v",
         "showlegend": false,
         "text": "<b>Group assignment</b><br><i>Digital Humanities Workspace</i>",
         "textfont": {
          "color": "white",
          "size": 12
         },
         "textposition": "inside",
         "type": "bar",
         "width": 1,
         "x": [
          3
         ],
         "y": [
          1.5
         ]
        },
        {
         "base": 9,
         "hoverinfo": "none",
         "marker": {
          "color": "#548235",
          "line": {
           "color": "black",
           "width": 1
          }
         },
         "name": "Group assignment",
         "orientation": "v",
         "showlegend": false,
         "text": "<b>Group assignment</b><br><i>Digital Humanities Workspace</i>",
         "textfont": {
          "color": "white",
          "size": 12
         },
         "textposition": "inside",
         "type": "bar",
         "width": 1,
         "x": [
          4
         ],
         "y": [
          3
         ]
        },
        {
         "base": 12,
         "hoverinfo": "none",
         "marker": {
          "color": "#c6e0b4",
          "line": {
           "color": "black",
           "width": 1
          }
         },
         "name": "Break",
         "orientation": "v",
         "showlegend": false,
         "text": "<b>Lunch break</b><br><i>Data School</i>",
         "textfont": {
          "color": "black",
          "size": 12
         },
         "textposition": "inside",
         "type": "bar",
         "width": 1,
         "x": [
          4
         ],
         "y": [
          1
         ]
        },
        {
         "base": 13,
         "hoverinfo": "none",
         "marker": {
          "color": "#548235",
          "line": {
           "color": "black",
           "width": 1
          }
         },
         "name": "Group assignment",
         "orientation": "v",
         "showlegend": false,
         "text": "<b>Group assignment</b><br><i>Digital Humanities Workspace</i>",
         "textfont": {
          "color": "white",
          "size": 12
         },
         "textposition": "inside",
         "type": "bar",
         "width": 1,
         "x": [
          4
         ],
         "y": [
          1.5
         ]
        },
        {
         "base": 14.5,
         "hoverinfo": "none",
         "marker": {
          "color": "#c6e0b4",
          "line": {
           "color": "black",
           "width": 1
          }
         },
         "name": "Break",
         "orientation": "v",
         "showlegend": false,
         "text": "<b>Break</b>",
         "textfont": {
          "color": "black",
          "size": 12
         },
         "textposition": "inside",
         "type": "bar",
         "width": 1,
         "x": [
          4
         ],
         "y": [
          0.5
         ]
        },
        {
         "base": 15,
         "hoverinfo": "none",
         "marker": {
          "color": "#548235",
          "line": {
           "color": "black",
           "width": 1
          }
         },
         "name": "Group assignment",
         "orientation": "v",
         "showlegend": false,
         "text": "<b>Group assignment</b><br><i>Digital Humanities Workspace</i>",
         "textfont": {
          "color": "white",
          "size": 12
         },
         "textposition": "inside",
         "type": "bar",
         "width": 1,
         "x": [
          4
         ],
         "y": [
          1
         ]
        },
        {
         "base": 16,
         "hoverinfo": "none",
         "marker": {
          "color": "#548235",
          "line": {
           "color": "black",
           "width": 1
          }
         },
         "name": "Group assignment",
         "orientation": "v",
         "showlegend": false,
         "text": "<b>Presentations</b><br><i>Digital Humanities Workspace</i>",
         "textfont": {
          "color": "white",
          "size": 12
         },
         "textposition": "inside",
         "type": "bar",
         "width": 1,
         "x": [
          4
         ],
         "y": [
          1
         ]
        }
       ],
       "layout": {
        "barmode": "stack",
        "height": 600,
        "legend": {
         "traceorder": "normal",
         "y": 0.5,
         "yanchor": "middle"
        },
        "template": {
         "data": {
          "bar": [
           {
            "error_x": {
             "color": "#2a3f5f"
            },
            "error_y": {
             "color": "#2a3f5f"
            },
            "marker": {
             "line": {
              "color": "white",
              "width": 0.5
             },
             "pattern": {
              "fillmode": "overlay",
              "size": 10,
              "solidity": 0.2
             }
            },
            "type": "bar"
           }
          ],
          "barpolar": [
           {
            "marker": {
             "line": {
              "color": "white",
              "width": 0.5
             },
             "pattern": {
              "fillmode": "overlay",
              "size": 10,
              "solidity": 0.2
             }
            },
            "type": "barpolar"
           }
          ],
          "carpet": [
           {
            "aaxis": {
             "endlinecolor": "#2a3f5f",
             "gridcolor": "#C8D4E3",
             "linecolor": "#C8D4E3",
             "minorgridcolor": "#C8D4E3",
             "startlinecolor": "#2a3f5f"
            },
            "baxis": {
             "endlinecolor": "#2a3f5f",
             "gridcolor": "#C8D4E3",
             "linecolor": "#C8D4E3",
             "minorgridcolor": "#C8D4E3",
             "startlinecolor": "#2a3f5f"
            },
            "type": "carpet"
           }
          ],
          "choropleth": [
           {
            "colorbar": {
             "outlinewidth": 0,
             "ticks": ""
            },
            "type": "choropleth"
           }
          ],
          "contour": [
           {
            "colorbar": {
             "outlinewidth": 0,
             "ticks": ""
            },
            "colorscale": [
             [
              0,
              "#0d0887"
             ],
             [
              0.1111111111111111,
              "#46039f"
             ],
             [
              0.2222222222222222,
              "#7201a8"
             ],
             [
              0.3333333333333333,
              "#9c179e"
             ],
             [
              0.4444444444444444,
              "#bd3786"
             ],
             [
              0.5555555555555556,
              "#d8576b"
             ],
             [
              0.6666666666666666,
              "#ed7953"
             ],
             [
              0.7777777777777778,
              "#fb9f3a"
             ],
             [
              0.8888888888888888,
              "#fdca26"
             ],
             [
              1,
              "#f0f921"
             ]
            ],
            "type": "contour"
           }
          ],
          "contourcarpet": [
           {
            "colorbar": {
             "outlinewidth": 0,
             "ticks": ""
            },
            "type": "contourcarpet"
           }
          ],
          "heatmap": [
           {
            "colorbar": {
             "outlinewidth": 0,
             "ticks": ""
            },
            "colorscale": [
             [
              0,
              "#0d0887"
             ],
             [
              0.1111111111111111,
              "#46039f"
             ],
             [
              0.2222222222222222,
              "#7201a8"
             ],
             [
              0.3333333333333333,
              "#9c179e"
             ],
             [
              0.4444444444444444,
              "#bd3786"
             ],
             [
              0.5555555555555556,
              "#d8576b"
             ],
             [
              0.6666666666666666,
              "#ed7953"
             ],
             [
              0.7777777777777778,
              "#fb9f3a"
             ],
             [
              0.8888888888888888,
              "#fdca26"
             ],
             [
              1,
              "#f0f921"
             ]
            ],
            "type": "heatmap"
           }
          ],
          "heatmapgl": [
           {
            "colorbar": {
             "outlinewidth": 0,
             "ticks": ""
            },
            "colorscale": [
             [
              0,
              "#0d0887"
             ],
             [
              0.1111111111111111,
              "#46039f"
             ],
             [
              0.2222222222222222,
              "#7201a8"
             ],
             [
              0.3333333333333333,
              "#9c179e"
             ],
             [
              0.4444444444444444,
              "#bd3786"
             ],
             [
              0.5555555555555556,
              "#d8576b"
             ],
             [
              0.6666666666666666,
              "#ed7953"
             ],
             [
              0.7777777777777778,
              "#fb9f3a"
             ],
             [
              0.8888888888888888,
              "#fdca26"
             ],
             [
              1,
              "#f0f921"
             ]
            ],
            "type": "heatmapgl"
           }
          ],
          "histogram": [
           {
            "marker": {
             "pattern": {
              "fillmode": "overlay",
              "size": 10,
              "solidity": 0.2
             }
            },
            "type": "histogram"
           }
          ],
          "histogram2d": [
           {
            "colorbar": {
             "outlinewidth": 0,
             "ticks": ""
            },
            "colorscale": [
             [
              0,
              "#0d0887"
             ],
             [
              0.1111111111111111,
              "#46039f"
             ],
             [
              0.2222222222222222,
              "#7201a8"
             ],
             [
              0.3333333333333333,
              "#9c179e"
             ],
             [
              0.4444444444444444,
              "#bd3786"
             ],
             [
              0.5555555555555556,
              "#d8576b"
             ],
             [
              0.6666666666666666,
              "#ed7953"
             ],
             [
              0.7777777777777778,
              "#fb9f3a"
             ],
             [
              0.8888888888888888,
              "#fdca26"
             ],
             [
              1,
              "#f0f921"
             ]
            ],
            "type": "histogram2d"
           }
          ],
          "histogram2dcontour": [
           {
            "colorbar": {
             "outlinewidth": 0,
             "ticks": ""
            },
            "colorscale": [
             [
              0,
              "#0d0887"
             ],
             [
              0.1111111111111111,
              "#46039f"
             ],
             [
              0.2222222222222222,
              "#7201a8"
             ],
             [
              0.3333333333333333,
              "#9c179e"
             ],
             [
              0.4444444444444444,
              "#bd3786"
             ],
             [
              0.5555555555555556,
              "#d8576b"
             ],
             [
              0.6666666666666666,
              "#ed7953"
             ],
             [
              0.7777777777777778,
              "#fb9f3a"
             ],
             [
              0.8888888888888888,
              "#fdca26"
             ],
             [
              1,
              "#f0f921"
             ]
            ],
            "type": "histogram2dcontour"
           }
          ],
          "mesh3d": [
           {
            "colorbar": {
             "outlinewidth": 0,
             "ticks": ""
            },
            "type": "mesh3d"
           }
          ],
          "parcoords": [
           {
            "line": {
             "colorbar": {
              "outlinewidth": 0,
              "ticks": ""
             }
            },
            "type": "parcoords"
           }
          ],
          "pie": [
           {
            "automargin": true,
            "type": "pie"
           }
          ],
          "scatter": [
           {
            "fillpattern": {
             "fillmode": "overlay",
             "size": 10,
             "solidity": 0.2
            },
            "type": "scatter"
           }
          ],
          "scatter3d": [
           {
            "line": {
             "colorbar": {
              "outlinewidth": 0,
              "ticks": ""
             }
            },
            "marker": {
             "colorbar": {
              "outlinewidth": 0,
              "ticks": ""
             }
            },
            "type": "scatter3d"
           }
          ],
          "scattercarpet": [
           {
            "marker": {
             "colorbar": {
              "outlinewidth": 0,
              "ticks": ""
             }
            },
            "type": "scattercarpet"
           }
          ],
          "scattergeo": [
           {
            "marker": {
             "colorbar": {
              "outlinewidth": 0,
              "ticks": ""
             }
            },
            "type": "scattergeo"
           }
          ],
          "scattergl": [
           {
            "marker": {
             "colorbar": {
              "outlinewidth": 0,
              "ticks": ""
             }
            },
            "type": "scattergl"
           }
          ],
          "scattermapbox": [
           {
            "marker": {
             "colorbar": {
              "outlinewidth": 0,
              "ticks": ""
             }
            },
            "type": "scattermapbox"
           }
          ],
          "scatterpolar": [
           {
            "marker": {
             "colorbar": {
              "outlinewidth": 0,
              "ticks": ""
             }
            },
            "type": "scatterpolar"
           }
          ],
          "scatterpolargl": [
           {
            "marker": {
             "colorbar": {
              "outlinewidth": 0,
              "ticks": ""
             }
            },
            "type": "scatterpolargl"
           }
          ],
          "scatterternary": [
           {
            "marker": {
             "colorbar": {
              "outlinewidth": 0,
              "ticks": ""
             }
            },
            "type": "scatterternary"
           }
          ],
          "surface": [
           {
            "colorbar": {
             "outlinewidth": 0,
             "ticks": ""
            },
            "colorscale": [
             [
              0,
              "#0d0887"
             ],
             [
              0.1111111111111111,
              "#46039f"
             ],
             [
              0.2222222222222222,
              "#7201a8"
             ],
             [
              0.3333333333333333,
              "#9c179e"
             ],
             [
              0.4444444444444444,
              "#bd3786"
             ],
             [
              0.5555555555555556,
              "#d8576b"
             ],
             [
              0.6666666666666666,
              "#ed7953"
             ],
             [
              0.7777777777777778,
              "#fb9f3a"
             ],
             [
              0.8888888888888888,
              "#fdca26"
             ],
             [
              1,
              "#f0f921"
             ]
            ],
            "type": "surface"
           }
          ],
          "table": [
           {
            "cells": {
             "fill": {
              "color": "#EBF0F8"
             },
             "line": {
              "color": "white"
             }
            },
            "header": {
             "fill": {
              "color": "#C8D4E3"
             },
             "line": {
              "color": "white"
             }
            },
            "type": "table"
           }
          ]
         },
         "layout": {
          "annotationdefaults": {
           "arrowcolor": "#2a3f5f",
           "arrowhead": 0,
           "arrowwidth": 1
          },
          "autotypenumbers": "strict",
          "coloraxis": {
           "colorbar": {
            "outlinewidth": 0,
            "ticks": ""
           }
          },
          "colorscale": {
           "diverging": [
            [
             0,
             "#8e0152"
            ],
            [
             0.1,
             "#c51b7d"
            ],
            [
             0.2,
             "#de77ae"
            ],
            [
             0.3,
             "#f1b6da"
            ],
            [
             0.4,
             "#fde0ef"
            ],
            [
             0.5,
             "#f7f7f7"
            ],
            [
             0.6,
             "#e6f5d0"
            ],
            [
             0.7,
             "#b8e186"
            ],
            [
             0.8,
             "#7fbc41"
            ],
            [
             0.9,
             "#4d9221"
            ],
            [
             1,
             "#276419"
            ]
           ],
           "sequential": [
            [
             0,
             "#0d0887"
            ],
            [
             0.1111111111111111,
             "#46039f"
            ],
            [
             0.2222222222222222,
             "#7201a8"
            ],
            [
             0.3333333333333333,
             "#9c179e"
            ],
            [
             0.4444444444444444,
             "#bd3786"
            ],
            [
             0.5555555555555556,
             "#d8576b"
            ],
            [
             0.6666666666666666,
             "#ed7953"
            ],
            [
             0.7777777777777778,
             "#fb9f3a"
            ],
            [
             0.8888888888888888,
             "#fdca26"
            ],
            [
             1,
             "#f0f921"
            ]
           ],
           "sequentialminus": [
            [
             0,
             "#0d0887"
            ],
            [
             0.1111111111111111,
             "#46039f"
            ],
            [
             0.2222222222222222,
             "#7201a8"
            ],
            [
             0.3333333333333333,
             "#9c179e"
            ],
            [
             0.4444444444444444,
             "#bd3786"
            ],
            [
             0.5555555555555556,
             "#d8576b"
            ],
            [
             0.6666666666666666,
             "#ed7953"
            ],
            [
             0.7777777777777778,
             "#fb9f3a"
            ],
            [
             0.8888888888888888,
             "#fdca26"
            ],
            [
             1,
             "#f0f921"
            ]
           ]
          },
          "colorway": [
           "#636efa",
           "#EF553B",
           "#00cc96",
           "#ab63fa",
           "#FFA15A",
           "#19d3f3",
           "#FF6692",
           "#B6E880",
           "#FF97FF",
           "#FECB52"
          ],
          "font": {
           "color": "#2a3f5f"
          },
          "geo": {
           "bgcolor": "white",
           "lakecolor": "white",
           "landcolor": "white",
           "showlakes": true,
           "showland": true,
           "subunitcolor": "#C8D4E3"
          },
          "hoverlabel": {
           "align": "left"
          },
          "hovermode": "closest",
          "mapbox": {
           "style": "light"
          },
          "paper_bgcolor": "white",
          "plot_bgcolor": "white",
          "polar": {
           "angularaxis": {
            "gridcolor": "#EBF0F8",
            "linecolor": "#EBF0F8",
            "ticks": ""
           },
           "bgcolor": "white",
           "radialaxis": {
            "gridcolor": "#EBF0F8",
            "linecolor": "#EBF0F8",
            "ticks": ""
           }
          },
          "scene": {
           "xaxis": {
            "backgroundcolor": "white",
            "gridcolor": "#DFE8F3",
            "gridwidth": 2,
            "linecolor": "#EBF0F8",
            "showbackground": true,
            "ticks": "",
            "zerolinecolor": "#EBF0F8"
           },
           "yaxis": {
            "backgroundcolor": "white",
            "gridcolor": "#DFE8F3",
            "gridwidth": 2,
            "linecolor": "#EBF0F8",
            "showbackground": true,
            "ticks": "",
            "zerolinecolor": "#EBF0F8"
           },
           "zaxis": {
            "backgroundcolor": "white",
            "gridcolor": "#DFE8F3",
            "gridwidth": 2,
            "linecolor": "#EBF0F8",
            "showbackground": true,
            "ticks": "",
            "zerolinecolor": "#EBF0F8"
           }
          },
          "shapedefaults": {
           "line": {
            "color": "#2a3f5f"
           }
          },
          "ternary": {
           "aaxis": {
            "gridcolor": "#DFE8F3",
            "linecolor": "#A2B1C6",
            "ticks": ""
           },
           "baxis": {
            "gridcolor": "#DFE8F3",
            "linecolor": "#A2B1C6",
            "ticks": ""
           },
           "bgcolor": "white",
           "caxis": {
            "gridcolor": "#DFE8F3",
            "linecolor": "#A2B1C6",
            "ticks": ""
           }
          },
          "title": {
           "x": 0.05
          },
          "xaxis": {
           "automargin": true,
           "gridcolor": "#EBF0F8",
           "linecolor": "#EBF0F8",
           "ticks": "",
           "title": {
            "standoff": 15
           },
           "zerolinecolor": "#EBF0F8",
           "zerolinewidth": 2
          },
          "yaxis": {
           "automargin": true,
           "gridcolor": "#EBF0F8",
           "linecolor": "#EBF0F8",
           "ticks": "",
           "title": {
            "standoff": 15
           },
           "zerolinecolor": "#EBF0F8",
           "zerolinewidth": 2
          }
         }
        },
        "title": {
         "text": "Exploring Culture Through Data",
         "x": 0.5
        },
        "xaxis": {
         "gridcolor": "lightgrey",
         "gridwidth": 0.5,
         "linecolor": "black",
         "linewidth": 1,
         "mirror": true,
         "range": [
          -0.5,
          4.5
         ],
         "showline": true,
         "ticktext": [
          "",
          "Monday",
          "Tuesday",
          "Wednesday",
          "Thursday",
          "Friday",
          "Saturday",
          "Sunday",
          ""
         ],
         "tickvals": [
          -0.5,
          0.5,
          1.5,
          2.5,
          3.5,
          4.5,
          5.5,
          6.5,
          7.5
         ]
        },
        "yaxis": {
         "gridcolor": "lightgrey",
         "gridwidth": 0.5,
         "linecolor": "black",
         "linewidth": 1,
         "mirror": true,
         "range": [
          18,
          8
         ],
         "showline": true,
         "ticktext": [
          "0:00",
          "1:00",
          "2:00",
          "3:00",
          "4:00",
          "5:00",
          "6:00",
          "7:00",
          "8:00",
          "9:00",
          "10:00",
          "11:00",
          "12:00",
          "13:00",
          "14:00",
          "15:00",
          "16:00",
          "17:00",
          "18:00",
          "19:00",
          "20:00",
          "21:00",
          "22:00",
          "23:00"
         ],
         "tickvals": [
          0,
          1,
          2,
          3,
          4,
          5,
          6,
          7,
          8,
          9,
          10,
          11,
          12,
          13,
          14,
          15,
          16,
          17,
          18,
          19,
          20,
          21,
          22,
          23
         ]
        }
       }
      }
     },
     "metadata": {},
     "output_type": "display_data"
    }
   ],
   "source": [
    "import plotly.graph_objects as go\n",
    "import pandas as pd\n",
    "\n",
    "# Sample data for a weekly schedule with titles\n",
    "schedule = [\n",
    "    {\"task\": \"Data School\", \"day\": \"Monday\", \"start\": \"09:00\", \"end\": \"10:00\", \"title\": \"Introduction by the team\", \"location\" : \"Data School\",  \"slides_title\" : \"Slides\", \"slides_url\":\"docs/slides/01a-introduction.pdf\"},\n",
    "    {\"task\": \"Guest lecture\", \"day\": \"Monday\", \"start\": \"10:00\", \"end\": \"12:00\", \"title\": \"Thinking in Data\", \"presenter\": \"Dennis Nguyen\", \"presenter_url\": \"https://www.uu.nl/staff/DNguyen1\", \"location\": \"Data School\", \"slides_title\" : \"Slides\", \"slides_url\":\"docs/slides/dennis-nguyen-thinking-in-data.pdf\"},\n",
    "    {\"task\": \"Break\", \"day\": \"Monday\", \"start\": \"12:00\", \"end\": \"13:00\", \"title\": \"Lunch break\", \"location\" : \"Data School\"},\n",
    "    {\"task\": \"Data School\", \"day\": \"Monday\", \"start\": \"13:00\", \"end\": \"14:30\", \"title\": \"Introduction round<br> &<br> Course overview\", \"location\" : \"Digital Humanities Workspace\", \"slides_title\" : \"Slides\", \"slides_url\":\"docs/slides/01b-course-overview.pdf\"},\n",
    "    {\"task\": \"Break\", \"day\": \"Monday\", \"start\": \"14:30\", \"end\": \"15:00\", \"title\": \"Break\"},\n",
    "    {\"task\": \"Group assignment\", \"day\": \"Monday\", \"start\": \"15:00\", \"end\": \"16:30\", \"title\": \"Group assignment\", \"location\" : \"Digital Humanities Workspace\"},\n",
    "    {\"task\": \"Data School\", \"day\": \"Tuesday\", \"start\": \"09:00\", \"end\": \"12:00\", \"title\": \"Basics of Programming (1/2)\", \"location\" : \"Digital Humanities Workspace\", \"slides_title\" : \"Slides\", \"slides_url\":\"docs/slides/02-basics-of-programming.pdf\", \"notebook_url\": \"code/02_basics_of_programming\"},\n",
    "    {\"task\": \"Break\", \"day\": \"Tuesday\", \"start\": \"12:00\", \"end\": \"13:00\", \"title\": \"Lunch break\", \"location\" : \"Data School\"},\n",
    "    {\"task\": \"Guest lecture\", \"day\": \"Tuesday\", \"start\": \"13:00\", \"end\": \"14:30\", \"title\": \"Data Journalism\",\"presenter\": \"Hay Kranen\", \"presenter_url\": \"https://www.haykranen.nl/\",  \"location\" : \"Digital Humanities Workspace\",  \"slides_title\" : \"Slides\", \"slides_url\":\"docs/slides/hay-kranen-data-journalism.pdf\"},\n",
    "    {\"task\": \"Break\", \"day\": \"Tuesday\", \"start\": \"14:30\", \"end\": \"15:00\", \"title\": \"Break\"},\n",
    "    {\"task\": \"Data School\", \"day\": \"Tuesday\", \"start\": \"15:00\", \"end\": \"17:00\", \"title\": \"Basics of Programming (2/2)\", \"location\" : \"Digital Humanities Workspace\", \"slides_title\" : \"Slides\", \"slides_url\": \"docs/slides/02-basics-of-programming.pdf\", \"notebook_url\": \"code/02_basics_of_programming\"},\n",
    "    {\"task\": \"Drinks\", \"day\": \"Tuesday\", \"start\": \"17:30\", \"end\": \"18:00\", \"title\": \"Drinks\", \"location\" : \"Café de Bastaard\"},\n",
    "    {\"task\": \"Data School\", \"day\": \"Wednesday\", \"start\": \"09:00\", \"end\": \"11:30\", \"title\": \"Data collection (1/2)\", \"location\" : \"Digital Humanities Workspace\", \"slides_title\" : \"Slides\", \"slides_url\":\"docs/slides/03-data-collection.pdf\"},\n",
    "    {\"task\": \"Break\", \"day\": \"Wednesday\", \"start\": \"11:30\", \"end\": \"12:30\", \"title\": \"Lunch break\", \"location\" : \"Data School\"},\n",
    "    {\"task\": \"Guest lecture\", \"day\": \"Wednesday\", \"start\": \"12:30\", \"end\": \"14:30\", \"title\": \"Data Ethics\",\"presenter\": \"Julia Straatman\", \"presenter_url\": \"https://www.uu.nl/staff/JStraatman\",  \"location\" : \"Digital Humanities Workspace\",  \"slides_title\" : \"Slides\", \"slides_url\":\"docs/slides/julia-straatman-deda-data-ethics-decision-aid.pdf\"},\n",
    "    {\"task\": \"Break\", \"day\": \"Wednesday\", \"start\": \"14:30\", \"end\": \"15:00\", \"title\": \"Break\"},\n",
    "    {\"task\": \"Data School\", \"day\": \"Wednesday\", \"start\": \"15:00\", \"end\": \"17:00\", \"title\": \"Data collection (2/2)\", \"location\" : \"Digital Humanities Workspace\", \"slides_title\" : \"Slides\", \"slides_url\":\"docs/slides/03-data-collection.pdf\"},\n",
    "    {\"task\": \"Data School\", \"day\": \"Thursday\", \"start\": \"09:00\", \"end\": \"12:00\", \"title\": \"Text analysis\", \"location\" : \"Digital Humanities Workspace\", \"notebook_url\": \"code/03_text_analysis\"},\n",
    "    {\"task\": \"Break\", \"day\": \"Thursday\", \"start\": \"12:00\", \"end\": \"13:00\", \"title\": \"Lunch break\", \"location\" : \"Data School\"},\n",
    "    {\"task\": \"Data School\", \"day\": \"Thursday\", \"start\": \"13:00\", \"end\": \"15:00\", \"title\": \"Data visualization\", \"location\" : \"Digital Humanities Workspace\", \"notebook_url\": \"code/04_data_visualization\"},\n",
    "    {\"task\": \"Break\", \"day\": \"Thursday\", \"start\": \"15:00\", \"end\": \"15:30\", \"title\": \"Break\"},\n",
    "    {\"task\": \"Group assignment\", \"day\": \"Thursday\", \"start\": \"15:30\", \"end\": \"17:00\", \"title\": \"Group assignment\", \"location\" : \"Digital Humanities Workspace\"},\n",
    "    {\"task\": \"Group assignment\", \"day\": \"Friday\", \"start\": \"09:00\", \"end\": \"12:00\", \"title\": \"Group assignment\", \"location\" : \"Digital Humanities Workspace\"},\n",
    "    {\"task\": \"Break\", \"day\": \"Friday\", \"start\": \"12:00\", \"end\": \"13:00\", \"title\": \"Lunch break\", \"location\" : \"Data School\"},\n",
    "    {\"task\": \"Group assignment\", \"day\": \"Friday\", \"start\": \"13:00\", \"end\": \"14:30\", \"title\": \"Group assignment\", \"location\" : \"Digital Humanities Workspace\"},\n",
    "    {\"task\": \"Break\", \"day\": \"Friday\", \"start\": \"14:30\", \"end\": \"15:00\", \"title\": \"Break\"},\n",
    "    {\"task\": \"Group assignment\", \"day\": \"Friday\", \"start\": \"15:00\", \"end\": \"16:00\", \"title\": \"Group assignment\", \"location\" : \"Digital Humanities Workspace\"},\n",
    "    {\"task\": \"Group assignment\", \"day\": \"Friday\", \"start\": \"16:00\", \"end\": \"17:00\", \"title\": \"Presentations\", \"location\" : \"Digital Humanities Workspace\"},\n",
    "]\n",
    "\n",
    "# Function to format title in bold and location in italics\n",
    "def format_title(title):\n",
    "    return f\"<b>{title}</b>\"\n",
    "\n",
    "def format_location(location):\n",
    "    return f\"<i>{location}</i>\" if not pd.isna(location) and location != '' else ''\n",
    "\n",
    "def format_presenter(presenter, url):\n",
    "    return f\"<a href='{url}' target='_blank'>{presenter}</a>\" if not pd.isna(presenter) and presenter != '' else ''\n",
    "def format_slides(slides_title, slides_url, notebook_url):\n",
    "    slides_link = f\"<a href='{slides_url}' target='_blank'>{slides_title}</a>\" if not pd.isna(slides_url) and slides_url != '' else ''\n",
    "    notebook_link = f\"<a href='{notebook_url}' target='_blank'>Notebooks</a>\" if not pd.isna(notebook_url) and notebook_url != '' else ''\n",
    "    if slides_link and notebook_link:\n",
    "        return f\"{slides_link} | {notebook_link}\"\n",
    "    return slides_link or notebook_link\n",
    "\n",
    "# Convert time to float for plotting\n",
    "def time_to_float(time_str):\n",
    "    hours, minutes = map(int, time_str.split(\":\"))\n",
    "    return hours + minutes / 60\n",
    "\n",
    "days = [\"Monday\", \"Tuesday\", \"Wednesday\", \"Thursday\", \"Friday\", \"Saturday\", \"Sunday\"]\n",
    "\n",
    "df = pd.DataFrame(schedule)\n",
    "df['start_float'] = df['start'].apply(time_to_float)\n",
    "df['end_float'] = df['end'].apply(time_to_float)\n",
    "df['day_num'] = df['day'].apply(lambda x: days.index(x))\n",
    "\n",
    "# Define a color for each task\n",
    "task_colors = {\n",
    "    \"Data School\": \"#ffd966\",\n",
    "    \"Guest lecture\": \"#f4b084\",\n",
    "    \"Drinks\": \"#8ea9db\",\n",
    "    \"Break\": \"#c6e0b4\",\n",
    "    \"Group assignment\": \"#548235\",\n",
    "}\n",
    "\n",
    "# Track which tasks have been added to the legend\n",
    "legend_added = set()\n",
    "\n",
    "# Create the plot with titles as labels\n",
    "fig = go.Figure()\n",
    "\n",
    "for _, row in df.iterrows():\n",
    "    # Apply formatting to title and location\n",
    "    bold_title = format_title(row['title'])\n",
    "    italic_location = format_location(row['location'])\n",
    "    presenter_info = format_presenter(row['presenter'], row['presenter_url'])\n",
    "    slides_info = format_slides(row['slides_title'], row['slides_url'], row['notebook_url'])\n",
    "    \n",
    "    # Combine formatted title and location into a single string for display\n",
    "    label_parts = [bold_title]\n",
    "    \n",
    "    if presenter_info:\n",
    "        label_parts.append(presenter_info)\n",
    "    if italic_location:\n",
    "        label_parts.append(italic_location)\n",
    "    if slides_info:\n",
    "        label_parts.append(slides_info)\n",
    "    label_text = \"<br>\".join(label_parts)\n",
    "    \n",
    "    # label_text = f\"{bold_title}<br>{presenter_info}<br>{italic_location}<br>\"\n",
    "    \n",
    "    # Determine if the task should be shown in the legend\n",
    "    show_legend = row['task'] not in legend_added\n",
    "    if show_legend:\n",
    "        legend_added.add(row['task'])\n",
    "\n",
    "    # Set text color based on task type\n",
    "    text_color = 'white' if row['task'] == 'Group assignment' else 'black'\n",
    "\n",
    "    fig.add_trace(go.Bar(\n",
    "        x=[row['day_num']],\n",
    "        y=[row['end_float'] - row['start_float']],\n",
    "        base=row['start_float'],\n",
    "        name=row['task'],\n",
    "        orientation='v',\n",
    "        text=label_text,  # Use title and location for the bar labels\n",
    "        hoverinfo='none',  # Ensure no hover text is shown\n",
    "        textposition='inside',  # Auto position the text on the bar\n",
    "        width=1.0,\n",
    "        marker=dict(\n",
    "            color=task_colors.get(row['task'], 'gray'),  # Apply color\n",
    "            line=dict(color='black', width=1)  # Add outline\n",
    "        ),\n",
    "        textfont=dict(\n",
    "            size=12,  # Adjust font size\n",
    "            color=text_color  # Adjust font color\n",
    "        ),\n",
    "        showlegend=show_legend  # Show legend only for the first occurrence\n",
    "    ))\n",
    "\n",
    "# Customize layout\n",
    "fig.update_layout(\n",
    "    title=\"Exploring Culture Through Data\",\n",
    "    title_x=0.5,  # Center the title\n",
    "    xaxis=dict(\n",
    "        showline=True,\n",
    "        linewidth=1,\n",
    "        linecolor='black',\n",
    "        mirror=True,\n",
    "        tickvals=[i - 0.5 for i in range(len(days) + 2)],  # Add half-step values for boundaries\n",
    "        ticktext=[\"\"] + days + [\"\"],  # Add empty strings for boundary ticks\n",
    "        range=[-0.5, 4.5],\n",
    "        gridcolor='lightgrey',  # Set grid color\n",
    "        gridwidth=0.5,  # Set grid width\n",
    "    ),\n",
    "    yaxis=dict(\n",
    "        showline=True,\n",
    "        linewidth=1,\n",
    "        linecolor='black',\n",
    "        mirror=True,\n",
    "        tickvals=list(range(24)),\n",
    "        ticktext=[f\"{hour}:00\" for hour in range(24)],\n",
    "        range=[18, 8],\n",
    "        gridcolor='lightgrey',  # Set grid color\n",
    "        gridwidth=0.5,  # Set grid width\n",
    "\n",
    "    ),\n",
    "    barmode='stack',\n",
    "    template=\"plotly_white\",\n",
    "    height=600,\n",
    "    legend=dict(\n",
    "        yanchor=\"middle\",  # Anchor the legend vertically in the middle\n",
    "        y=0.5,             # Position the legend at the middle of the y-axis\n",
    "        traceorder=\"normal\"  # Reverse the order of legend items\n",
    "        )\n",
    ")\n",
    "\n",
    "fig.show()"
   ]
  }
 ],
 "metadata": {
  "kernelspec": {
   "display_name": "Python 3 (ipykernel)",
   "language": "python",
   "name": "python3"
  },
  "language_info": {
   "codemirror_mode": {
    "name": "ipython",
    "version": 3
   },
   "file_extension": ".py",
   "mimetype": "text/x-python",
   "name": "python",
   "nbconvert_exporter": "python",
   "pygments_lexer": "ipython3",
   "version": "3.12.5"
  }
 },
 "nbformat": 4,
 "nbformat_minor": 5
}
