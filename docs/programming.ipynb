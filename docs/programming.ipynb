{
 "cells": [
  {
   "cell_type": "markdown",
   "metadata": {},
   "source": [
    "## Programming in Python\n",
    "### 1. Preparation\n",
    "- [Getting started with Python](code/01_preparation/1a_getting_started.ipynb)\n",
    "- [Variables and Data Types](code/01_preparation/1b_variables_types.ipynb)\n",
    "- [Containers](code/01_preparation/1c_containers.ipynb)\n",
    "- [Loops](code/01_preparation/1d_loops.ipynb)\n",
    "\n",
    "### 2. Basics of programming\n",
    "  - Recap of preparation materials \n",
    "  - Introduction to file types\n",
    "  - Introfuction to [Pandas](https://github.com/CentreForDigitalHumanities/Summer-School-2024/blob/main/code/day_2/2a_pandas.ipynb)\n",
    "  - How to troubleshoot: \n",
    "    -  Documentation\n",
    "    -  StackOverflow\n",
    "    -  AI assistance\n",
    "  - Exercises \n",
    "  -  Git\n",
    "### 3. Data collection\n",
    "  - [Introduction and methods](code/03_data_collection/3a_introduction_and_methods.ipynb)\n",
    "  - [APIs](code/03_data_collection/3b_apis.ipynb)\n",
    "  - [Basics of web scraping](code/03_data_collection/3c_basics.ipynb)\n",
    "  - [Advanced web scraping](code/03_data_collection/3d_advanced.ipynb)\n",
    "  - [End](code/03_data_collection/3f_end.ipynb) <-- RENAME\n",
    "### 4. Data visualization\n",
    "  - A\n",
    "  - B\n",
    "  - C\n",
    "### 5. Text analysis\n",
    "[Text analysis](https://github.com/CentreForDigitalHumanities/Summer-School-2024/blob/main/docs/outline/text_analysis.ipynb)\n",
    "  - Natural Language Processing (NLP)\n",
    "  - ...\n",
    "  - tf-idf"
   ]
  }
 ],
 "metadata": {
  "language_info": {
   "name": "python"
  }
 },
 "nbformat": 4,
 "nbformat_minor": 2
}
